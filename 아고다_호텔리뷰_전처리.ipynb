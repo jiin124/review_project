{
  "nbformat": 4,
  "nbformat_minor": 0,
  "metadata": {
    "colab": {
      "provenance": [],
      "mount_file_id": "1gx3cL7zuTNw0DPr5UxlRHrEfMaYCGgaO",
      "authorship_tag": "ABX9TyPqKxxcK8KhGBADRo3F0zCi",
      "include_colab_link": true
    },
    "kernelspec": {
      "name": "python3",
      "display_name": "Python 3"
    },
    "language_info": {
      "name": "python"
    }
  },
  "cells": [
    {
      "cell_type": "markdown",
      "metadata": {
        "id": "view-in-github",
        "colab_type": "text"
      },
      "source": [
        "<a href=\"https://colab.research.google.com/github/jiin124/review_project/blob/main/%EC%95%84%EA%B3%A0%EB%8B%A4_%ED%98%B8%ED%85%94%EB%A6%AC%EB%B7%B0_%EC%A0%84%EC%B2%98%EB%A6%AC.ipynb\" target=\"_parent\"><img src=\"https://colab.research.google.com/assets/colab-badge.svg\" alt=\"Open In Colab\"/></a>"
      ]
    },
    {
      "cell_type": "code",
      "execution_count": null,
      "metadata": {
        "id": "QPV9Cp6G41Jb"
      },
      "outputs": [],
      "source": [
        "import pandas as pd\n",
        "import numpy as np\n",
        "import matplotlib.pyplot as plt\n",
        "import seaborn as sns\n",
        "import os\n",
        "plt.style.use('ggplot')\n",
        "import warnings\n",
        "warnings.filterwarnings('ignore')"
      ]
    },
    {
      "cell_type": "markdown",
      "source": [
        "# 데이터가져오기"
      ],
      "metadata": {
        "id": "MRpaOyY97Lll"
      }
    },
    {
      "cell_type": "code",
      "source": [
        "#강릉=gn성급\n",
        "gn1=pd.read_excel('/content/강릉_1성급.xlsx')\n",
        "gn2=pd.read_excel('/content/강릉_2성급_호텔 큐브.xlsx')\n",
        "gn3=pd.read_excel('/content/강릉_3성급_강릉 그레이 호텔.xlsx')\n",
        "gn4=pd.read_excel('/content/강릉_4성급_SL 호텔 강릉.xlsx')\n",
        "gn5=pd.read_excel('/content/강릉_5성급_세인트존스 호텔.xlsx')"
      ],
      "metadata": {
        "id": "uwHQwSv95FG2"
      },
      "execution_count": null,
      "outputs": []
    },
    {
      "cell_type": "code",
      "source": [
        "#서울=s1\n",
        "s1=pd.read_excel('/content/서울_1성급.xlsx')\n",
        "s2=pd.read_excel('/content/서울_2성급.xlsx')\n",
        "s3=pd.read_excel('/content/서울_3성급_신라스테이_역삼.xlsx')\n",
        "s4=pd.read_excel('/content/서울_4성급_신라스테이_광화문.xlsx')\n",
        "s5=pd.read_excel('/content/서울_5성급_롯데호텔서울 이그제큐티브 타워.xlsx')"
      ],
      "metadata": {
        "id": "bvDa1mYd6QFB"
      },
      "execution_count": null,
      "outputs": []
    },
    {
      "cell_type": "code",
      "source": [
        "#제주=j1\n",
        "j1=pd.read_excel('/content/제주_1성급_숨 게스트 하우스 제주공항.xlsx')\n",
        "j2=pd.read_excel('/content/제주_2성급_스테이 인터뷰 제주.xlsx')\n",
        "j3=pd.read_excel('/content/제주_3성급_블루스프링 부띠크호텔.xlsx')\n",
        "j4=pd.read_excel('/content/제주_4성급_베니키아 호텔 제주.xlsx')\n",
        "j5=pd.read_excel('/content/제주_5성급_랜딩관 제주신화월드 호텔 앤 리조트.xlsx')"
      ],
      "metadata": {
        "id": "Wiy-yhjH7fBU"
      },
      "execution_count": null,
      "outputs": []
    },
    {
      "cell_type": "code",
      "source": [
        "#여수=y1\n",
        "y1=pd.read_excel('/content/여수_1성급_24게스트하우스 여수.xlsx')\n",
        "y2=pd.read_excel('/content/여수_2성급_여수 호텔더원.xlsx')\n",
        "y3=pd.read_excel('/content/여수_3성급_나르샤 관광호텔.xlsx')\n",
        "y4=pd.read_excel('/content/여수_4성급_베네치아 호텔_리조트.xlsx')\n",
        "y5=pd.read_excel('/content/여수_5성급_호텔 JCS 여수.xlsx')"
      ],
      "metadata": {
        "id": "1UWqFLH87flx"
      },
      "execution_count": null,
      "outputs": []
    },
    {
      "cell_type": "code",
      "source": [
        "#부산=b1\n",
        "b1=pd.read_excel('/content/부산_1성급_k-게스트하우스 프리미엄 남포 1호점.xlsx')\n",
        "b2=pd.read_excel('/content/부산_2등급_호텔 프리마베라 인 부산.xlsx')\n",
        "b3=pd.read_excel('/content/부산_3성급_토요코 인 부산 해운대 2.xlsx')\n",
        "b4=pd.read_excel('/content/부산_4성급_라비드 아틀란 호텔.xlsx')\n",
        "b5=pd.read_excel('/content/부산_5성급_그랜드 조선 부산.xlsx')"
      ],
      "metadata": {
        "id": "kZaM8lfV8wNW"
      },
      "execution_count": null,
      "outputs": []
    },
    {
      "cell_type": "markdown",
      "source": [
        "## 데이터 합치기\n"
      ],
      "metadata": {
        "id": "ddx3p9Ht9MvL"
      }
    },
    {
      "cell_type": "code",
      "source": [
        "#서울\n",
        "s=pd.concat([s1,s2,s3,s4,s5],axis=0)\n"
      ],
      "metadata": {
        "id": "pV3R5u-f9CZW"
      },
      "execution_count": null,
      "outputs": []
    },
    {
      "cell_type": "code",
      "source": [
        "s.info()"
      ],
      "metadata": {
        "colab": {
          "base_uri": "https://localhost:8080/"
        },
        "id": "rddPv45e9WNk",
        "outputId": "d77bd5b1-3c3a-46af-9d42-f6971bb5cb55"
      },
      "execution_count": null,
      "outputs": [
        {
          "output_type": "stream",
          "name": "stdout",
          "text": [
            "<class 'pandas.core.frame.DataFrame'>\n",
            "Int64Index: 523 entries, 0 to 99\n",
            "Data columns (total 11 columns):\n",
            " #   Column              Non-Null Count  Dtype  \n",
            "---  ------              --------------  -----  \n",
            " 0   star                523 non-null    int64  \n",
            " 1   Hotel_name          523 non-null    object \n",
            " 2   reviewer_rate       523 non-null    float64\n",
            " 3   review_grade        418 non-null    object \n",
            " 4   reviewer_name       521 non-null    object \n",
            " 5   trip_type           523 non-null    object \n",
            " 6   room_type           523 non-null    object \n",
            " 7   trip_date&trip_day  504 non-null    object \n",
            " 8   title               523 non-null    object \n",
            " 9   review              523 non-null    object \n",
            " 10  Date                523 non-null    object \n",
            "dtypes: float64(1), int64(1), object(9)\n",
            "memory usage: 49.0+ KB\n"
          ]
        }
      ]
    },
    {
      "cell_type": "code",
      "source": [
        "#강릉\n",
        "gn=pd.concat([gn1,gn2,gn3,gn4,gn5],axis=0)\n",
        "#부산\n",
        "b=pd.concat([b1,b2,b3,b4,b5],axis=0)\n",
        "#여수\n",
        "y=pd.concat([y1,y2,y3,y4,y5],axis=0)\n",
        "#제주\n",
        "j=pd.concat([j1,j2,j3,j4,j5],axis=0)"
      ],
      "metadata": {
        "id": "Zrwj7aWg9Y8j"
      },
      "execution_count": null,
      "outputs": []
    },
    {
      "cell_type": "code",
      "source": [
        "gn.info()"
      ],
      "metadata": {
        "colab": {
          "base_uri": "https://localhost:8080/"
        },
        "id": "L84hRDG_-B_x",
        "outputId": "2435366d-d064-43be-d2a8-093293a19729"
      },
      "execution_count": null,
      "outputs": [
        {
          "output_type": "stream",
          "name": "stdout",
          "text": [
            "<class 'pandas.core.frame.DataFrame'>\n",
            "Int64Index: 520 entries, 0 to 109\n",
            "Data columns (total 11 columns):\n",
            " #   Column              Non-Null Count  Dtype \n",
            "---  ------              --------------  ----- \n",
            " 0   star                520 non-null    int64 \n",
            " 1   Hotel_name          520 non-null    object\n",
            " 2   reviewer_rate       520 non-null    object\n",
            " 3   review_grade        405 non-null    object\n",
            " 4   reviewer_name       518 non-null    object\n",
            " 5   trip_type           520 non-null    object\n",
            " 6   room_type           520 non-null    object\n",
            " 7   trip_date&trip_day  513 non-null    object\n",
            " 8   title               520 non-null    object\n",
            " 9   review              520 non-null    object\n",
            " 10  Date                520 non-null    object\n",
            "dtypes: int64(1), object(10)\n",
            "memory usage: 48.8+ KB\n"
          ]
        }
      ]
    },
    {
      "cell_type": "code",
      "source": [
        "b.info()"
      ],
      "metadata": {
        "colab": {
          "base_uri": "https://localhost:8080/"
        },
        "id": "N_79wcj7-C4A",
        "outputId": "89ae82c8-d038-4c52-cc4f-26060243d34c"
      },
      "execution_count": null,
      "outputs": [
        {
          "output_type": "stream",
          "name": "stdout",
          "text": [
            "<class 'pandas.core.frame.DataFrame'>\n",
            "Int64Index: 500 entries, 0 to 99\n",
            "Data columns (total 11 columns):\n",
            " #   Column              Non-Null Count  Dtype  \n",
            "---  ------              --------------  -----  \n",
            " 0   star                500 non-null    int64  \n",
            " 1   Hotel_name          500 non-null    object \n",
            " 2   review_rate         500 non-null    float64\n",
            " 3   review_grade        454 non-null    object \n",
            " 4   reviewer_name       499 non-null    object \n",
            " 5   trip_type           500 non-null    object \n",
            " 6   room_type           483 non-null    object \n",
            " 7   trip_date&trip_day  500 non-null    object \n",
            " 8   title               500 non-null    object \n",
            " 9   review              500 non-null    object \n",
            " 10  review_date         500 non-null    object \n",
            "dtypes: float64(1), int64(1), object(9)\n",
            "memory usage: 46.9+ KB\n"
          ]
        }
      ]
    },
    {
      "cell_type": "code",
      "source": [
        "y.info()"
      ],
      "metadata": {
        "colab": {
          "base_uri": "https://localhost:8080/"
        },
        "id": "oGHMLUln-Dcu",
        "outputId": "8de906f5-961e-423c-9695-00002e50564b"
      },
      "execution_count": null,
      "outputs": [
        {
          "output_type": "stream",
          "name": "stdout",
          "text": [
            "<class 'pandas.core.frame.DataFrame'>\n",
            "Int64Index: 500 entries, 0 to 99\n",
            "Data columns (total 11 columns):\n",
            " #   Column              Non-Null Count  Dtype  \n",
            "---  ------              --------------  -----  \n",
            " 0   star                500 non-null    int64  \n",
            " 1   Hotel_name          500 non-null    object \n",
            " 2   review_rate         500 non-null    float64\n",
            " 3   review_grade        440 non-null    object \n",
            " 4   reviewer_name       500 non-null    object \n",
            " 5   trip_type           500 non-null    object \n",
            " 6   room_type           479 non-null    object \n",
            " 7   trip_date&trip_day  500 non-null    object \n",
            " 8   title               500 non-null    object \n",
            " 9   review              500 non-null    object \n",
            " 10  review_date         500 non-null    object \n",
            "dtypes: float64(1), int64(1), object(9)\n",
            "memory usage: 46.9+ KB\n"
          ]
        }
      ]
    },
    {
      "cell_type": "code",
      "source": [
        "j.info()"
      ],
      "metadata": {
        "colab": {
          "base_uri": "https://localhost:8080/"
        },
        "id": "eW40Yeni-Fhi",
        "outputId": "3d2d0083-27e6-4799-9a96-e7b1afe98c6b"
      },
      "execution_count": null,
      "outputs": [
        {
          "output_type": "stream",
          "name": "stdout",
          "text": [
            "<class 'pandas.core.frame.DataFrame'>\n",
            "Int64Index: 500 entries, 0 to 99\n",
            "Data columns (total 11 columns):\n",
            " #   Column              Non-Null Count  Dtype  \n",
            "---  ------              --------------  -----  \n",
            " 0   star                500 non-null    int64  \n",
            " 1   Hotel_name          500 non-null    object \n",
            " 2   review_rate         500 non-null    float64\n",
            " 3   review_grade        419 non-null    object \n",
            " 4   reviewer_name       500 non-null    object \n",
            " 5   trip_type           500 non-null    object \n",
            " 6   room_type           483 non-null    object \n",
            " 7   trip_date&trip_day  500 non-null    object \n",
            " 8   title               500 non-null    object \n",
            " 9   review              500 non-null    object \n",
            " 10  review_date         500 non-null    object \n",
            "dtypes: float64(1), int64(1), object(9)\n",
            "memory usage: 46.9+ KB\n"
          ]
        }
      ]
    },
    {
      "cell_type": "code",
      "source": [
        "s.to_csv('서울.csv')\n",
        "b.to_csv('부산.csv')\n",
        "y.to_csv('여수.csv')\n",
        "j.to_csv('제주.csv')\n",
        "gn.to_csv('강릉.csv')"
      ],
      "metadata": {
        "id": "ZJluRxt3-GI_"
      },
      "execution_count": null,
      "outputs": []
    },
    {
      "cell_type": "code",
      "source": [
        "df=pd.concat([s,b,y,j,gn],axis=0)\n"
      ],
      "metadata": {
        "id": "e9Ufhj1W-g0c"
      },
      "execution_count": null,
      "outputs": []
    },
    {
      "cell_type": "code",
      "source": [
        "df.info()"
      ],
      "metadata": {
        "colab": {
          "base_uri": "https://localhost:8080/"
        },
        "id": "R_VNiiFDYPcT",
        "outputId": "7fc28212-51de-4702-cd89-62ac7b4367e6"
      },
      "execution_count": null,
      "outputs": [
        {
          "output_type": "stream",
          "name": "stdout",
          "text": [
            "<class 'pandas.core.frame.DataFrame'>\n",
            "Int64Index: 2543 entries, 0 to 109\n",
            "Data columns (total 13 columns):\n",
            " #   Column              Non-Null Count  Dtype  \n",
            "---  ------              --------------  -----  \n",
            " 0   star                2543 non-null   int64  \n",
            " 1   Hotel_name          2543 non-null   object \n",
            " 2   reviewer_rate       1043 non-null   object \n",
            " 3   review_grade        2136 non-null   object \n",
            " 4   reviewer_name       2538 non-null   object \n",
            " 5   trip_type           2543 non-null   object \n",
            " 6   room_type           2488 non-null   object \n",
            " 7   trip_date&trip_day  2517 non-null   object \n",
            " 8   title               2543 non-null   object \n",
            " 9   review              2543 non-null   object \n",
            " 10  Date                1043 non-null   object \n",
            " 11  review_rate         1500 non-null   float64\n",
            " 12  review_date         1500 non-null   object \n",
            "dtypes: float64(1), int64(1), object(11)\n",
            "memory usage: 278.1+ KB\n"
          ]
        }
      ]
    },
    {
      "cell_type": "code",
      "source": [
        "df.to_csv('Hotel_review_1.csv')"
      ],
      "metadata": {
        "id": "zHX_-pnkYP7h"
      },
      "execution_count": null,
      "outputs": []
    },
    {
      "cell_type": "code",
      "source": [
        "df.head()"
      ],
      "metadata": {
        "colab": {
          "base_uri": "https://localhost:8080/",
          "height": 510
        },
        "id": "YwHs_1EMYYhV",
        "outputId": "f917d41f-7860-4cd1-82ea-bf55979b98a9"
      },
      "execution_count": null,
      "outputs": [
        {
          "output_type": "execute_result",
          "data": {
            "text/plain": [
              "   star Hotel_name reviewer_rate review_grade reviewer_name  trip_type  \\\n",
              "0     1    유원호텔_서초           9.2           최고          jeon    나홀로 여행객   \n",
              "1     1    유원호텔_서초           7.2           좋음       Joonvum     출장 여행객   \n",
              "2     1    유원호텔_서초           8.8           우수      JaeYoung    나홀로 여행객   \n",
              "3     1    유원호텔_서초           9.0           최고           Hye     그룹 여행객   \n",
              "4     1    유원호텔_서초          10.0           최고       SUNGMIN  커플/2인 여행객   \n",
              "\n",
              "    room_type trip_date&trip_day                title  \\\n",
              "0  스탠다드 더블 베드     2020년 12월 | 1박             친절했습니다.”   \n",
              "1  스탠다드 더블 베드      2019년 6월 | 1박           유원호텔 이용후기”   \n",
              "2    디럭스 더블베드      2019년 9월 | 1박         대체적으로 만족합니다”   \n",
              "3       스탠다드룸      2016년 1월 | 1박  실내 조명(전등) 좀 환하게...”   \n",
              "4  스탠다드 더블 베드      2012년 8월 | 1박      가격대비 위치 최고의 모텔”   \n",
              "\n",
              "                                              review               Date  \\\n",
              "0  아버님 서울 병원 방문 목적으로 혼자 숙박하셔야 되어 걱정많았으나 사전 전화 문의에...   작성일: 2021년 1월 1일   \n",
              "1  3호선 남부터미널 역이 매우 가깝고 교대역까지도 도보로 이동 가능한 거리에 위치함....   작성일: 2019년 7월 7일   \n",
              "2  디럭스 더블베드룸에 숙박했습니다. 방은 깨끗했고 직원분들도 친절했습니다.\\n남부터미...  작성일: 2019년 10월 1일   \n",
              "3  숙박의 목적에 따라 평가가 달라지겠지만 저희는 5명 친구들과 함께 하는 거라 도란도...  작성일: 2016년 1월 19일   \n",
              "4  일단 남부터미널에서 가깝고 놀라울 만큼 저렴한 숙박료에 감탄했습니다. 지방에 사는지...  작성일: 2012년 8월 23일   \n",
              "\n",
              "   review_rate review_date  \n",
              "0          NaN         NaN  \n",
              "1          NaN         NaN  \n",
              "2          NaN         NaN  \n",
              "3          NaN         NaN  \n",
              "4          NaN         NaN  "
            ],
            "text/html": [
              "\n",
              "  <div id=\"df-94b39b0f-0778-434b-9e23-6d281278b09a\">\n",
              "    <div class=\"colab-df-container\">\n",
              "      <div>\n",
              "<style scoped>\n",
              "    .dataframe tbody tr th:only-of-type {\n",
              "        vertical-align: middle;\n",
              "    }\n",
              "\n",
              "    .dataframe tbody tr th {\n",
              "        vertical-align: top;\n",
              "    }\n",
              "\n",
              "    .dataframe thead th {\n",
              "        text-align: right;\n",
              "    }\n",
              "</style>\n",
              "<table border=\"1\" class=\"dataframe\">\n",
              "  <thead>\n",
              "    <tr style=\"text-align: right;\">\n",
              "      <th></th>\n",
              "      <th>star</th>\n",
              "      <th>Hotel_name</th>\n",
              "      <th>reviewer_rate</th>\n",
              "      <th>review_grade</th>\n",
              "      <th>reviewer_name</th>\n",
              "      <th>trip_type</th>\n",
              "      <th>room_type</th>\n",
              "      <th>trip_date&amp;trip_day</th>\n",
              "      <th>title</th>\n",
              "      <th>review</th>\n",
              "      <th>Date</th>\n",
              "      <th>review_rate</th>\n",
              "      <th>review_date</th>\n",
              "    </tr>\n",
              "  </thead>\n",
              "  <tbody>\n",
              "    <tr>\n",
              "      <th>0</th>\n",
              "      <td>1</td>\n",
              "      <td>유원호텔_서초</td>\n",
              "      <td>9.2</td>\n",
              "      <td>최고</td>\n",
              "      <td>jeon</td>\n",
              "      <td>나홀로 여행객</td>\n",
              "      <td>스탠다드 더블 베드</td>\n",
              "      <td>2020년 12월 | 1박</td>\n",
              "      <td>친절했습니다.”</td>\n",
              "      <td>아버님 서울 병원 방문 목적으로 혼자 숙박하셔야 되어 걱정많았으나 사전 전화 문의에...</td>\n",
              "      <td>작성일: 2021년 1월 1일</td>\n",
              "      <td>NaN</td>\n",
              "      <td>NaN</td>\n",
              "    </tr>\n",
              "    <tr>\n",
              "      <th>1</th>\n",
              "      <td>1</td>\n",
              "      <td>유원호텔_서초</td>\n",
              "      <td>7.2</td>\n",
              "      <td>좋음</td>\n",
              "      <td>Joonvum</td>\n",
              "      <td>출장 여행객</td>\n",
              "      <td>스탠다드 더블 베드</td>\n",
              "      <td>2019년 6월 | 1박</td>\n",
              "      <td>유원호텔 이용후기”</td>\n",
              "      <td>3호선 남부터미널 역이 매우 가깝고 교대역까지도 도보로 이동 가능한 거리에 위치함....</td>\n",
              "      <td>작성일: 2019년 7월 7일</td>\n",
              "      <td>NaN</td>\n",
              "      <td>NaN</td>\n",
              "    </tr>\n",
              "    <tr>\n",
              "      <th>2</th>\n",
              "      <td>1</td>\n",
              "      <td>유원호텔_서초</td>\n",
              "      <td>8.8</td>\n",
              "      <td>우수</td>\n",
              "      <td>JaeYoung</td>\n",
              "      <td>나홀로 여행객</td>\n",
              "      <td>디럭스 더블베드</td>\n",
              "      <td>2019년 9월 | 1박</td>\n",
              "      <td>대체적으로 만족합니다”</td>\n",
              "      <td>디럭스 더블베드룸에 숙박했습니다. 방은 깨끗했고 직원분들도 친절했습니다.\\n남부터미...</td>\n",
              "      <td>작성일: 2019년 10월 1일</td>\n",
              "      <td>NaN</td>\n",
              "      <td>NaN</td>\n",
              "    </tr>\n",
              "    <tr>\n",
              "      <th>3</th>\n",
              "      <td>1</td>\n",
              "      <td>유원호텔_서초</td>\n",
              "      <td>9.0</td>\n",
              "      <td>최고</td>\n",
              "      <td>Hye</td>\n",
              "      <td>그룹 여행객</td>\n",
              "      <td>스탠다드룸</td>\n",
              "      <td>2016년 1월 | 1박</td>\n",
              "      <td>실내 조명(전등) 좀 환하게...”</td>\n",
              "      <td>숙박의 목적에 따라 평가가 달라지겠지만 저희는 5명 친구들과 함께 하는 거라 도란도...</td>\n",
              "      <td>작성일: 2016년 1월 19일</td>\n",
              "      <td>NaN</td>\n",
              "      <td>NaN</td>\n",
              "    </tr>\n",
              "    <tr>\n",
              "      <th>4</th>\n",
              "      <td>1</td>\n",
              "      <td>유원호텔_서초</td>\n",
              "      <td>10.0</td>\n",
              "      <td>최고</td>\n",
              "      <td>SUNGMIN</td>\n",
              "      <td>커플/2인 여행객</td>\n",
              "      <td>스탠다드 더블 베드</td>\n",
              "      <td>2012년 8월 | 1박</td>\n",
              "      <td>가격대비 위치 최고의 모텔”</td>\n",
              "      <td>일단 남부터미널에서 가깝고 놀라울 만큼 저렴한 숙박료에 감탄했습니다. 지방에 사는지...</td>\n",
              "      <td>작성일: 2012년 8월 23일</td>\n",
              "      <td>NaN</td>\n",
              "      <td>NaN</td>\n",
              "    </tr>\n",
              "  </tbody>\n",
              "</table>\n",
              "</div>\n",
              "      <button class=\"colab-df-convert\" onclick=\"convertToInteractive('df-94b39b0f-0778-434b-9e23-6d281278b09a')\"\n",
              "              title=\"Convert this dataframe to an interactive table.\"\n",
              "              style=\"display:none;\">\n",
              "        \n",
              "  <svg xmlns=\"http://www.w3.org/2000/svg\" height=\"24px\"viewBox=\"0 0 24 24\"\n",
              "       width=\"24px\">\n",
              "    <path d=\"M0 0h24v24H0V0z\" fill=\"none\"/>\n",
              "    <path d=\"M18.56 5.44l.94 2.06.94-2.06 2.06-.94-2.06-.94-.94-2.06-.94 2.06-2.06.94zm-11 1L8.5 8.5l.94-2.06 2.06-.94-2.06-.94L8.5 2.5l-.94 2.06-2.06.94zm10 10l.94 2.06.94-2.06 2.06-.94-2.06-.94-.94-2.06-.94 2.06-2.06.94z\"/><path d=\"M17.41 7.96l-1.37-1.37c-.4-.4-.92-.59-1.43-.59-.52 0-1.04.2-1.43.59L10.3 9.45l-7.72 7.72c-.78.78-.78 2.05 0 2.83L4 21.41c.39.39.9.59 1.41.59.51 0 1.02-.2 1.41-.59l7.78-7.78 2.81-2.81c.8-.78.8-2.07 0-2.86zM5.41 20L4 18.59l7.72-7.72 1.47 1.35L5.41 20z\"/>\n",
              "  </svg>\n",
              "      </button>\n",
              "      \n",
              "  <style>\n",
              "    .colab-df-container {\n",
              "      display:flex;\n",
              "      flex-wrap:wrap;\n",
              "      gap: 12px;\n",
              "    }\n",
              "\n",
              "    .colab-df-convert {\n",
              "      background-color: #E8F0FE;\n",
              "      border: none;\n",
              "      border-radius: 50%;\n",
              "      cursor: pointer;\n",
              "      display: none;\n",
              "      fill: #1967D2;\n",
              "      height: 32px;\n",
              "      padding: 0 0 0 0;\n",
              "      width: 32px;\n",
              "    }\n",
              "\n",
              "    .colab-df-convert:hover {\n",
              "      background-color: #E2EBFA;\n",
              "      box-shadow: 0px 1px 2px rgba(60, 64, 67, 0.3), 0px 1px 3px 1px rgba(60, 64, 67, 0.15);\n",
              "      fill: #174EA6;\n",
              "    }\n",
              "\n",
              "    [theme=dark] .colab-df-convert {\n",
              "      background-color: #3B4455;\n",
              "      fill: #D2E3FC;\n",
              "    }\n",
              "\n",
              "    [theme=dark] .colab-df-convert:hover {\n",
              "      background-color: #434B5C;\n",
              "      box-shadow: 0px 1px 3px 1px rgba(0, 0, 0, 0.15);\n",
              "      filter: drop-shadow(0px 1px 2px rgba(0, 0, 0, 0.3));\n",
              "      fill: #FFFFFF;\n",
              "    }\n",
              "  </style>\n",
              "\n",
              "      <script>\n",
              "        const buttonEl =\n",
              "          document.querySelector('#df-94b39b0f-0778-434b-9e23-6d281278b09a button.colab-df-convert');\n",
              "        buttonEl.style.display =\n",
              "          google.colab.kernel.accessAllowed ? 'block' : 'none';\n",
              "\n",
              "        async function convertToInteractive(key) {\n",
              "          const element = document.querySelector('#df-94b39b0f-0778-434b-9e23-6d281278b09a');\n",
              "          const dataTable =\n",
              "            await google.colab.kernel.invokeFunction('convertToInteractive',\n",
              "                                                     [key], {});\n",
              "          if (!dataTable) return;\n",
              "\n",
              "          const docLinkHtml = 'Like what you see? Visit the ' +\n",
              "            '<a target=\"_blank\" href=https://colab.research.google.com/notebooks/data_table.ipynb>data table notebook</a>'\n",
              "            + ' to learn more about interactive tables.';\n",
              "          element.innerHTML = '';\n",
              "          dataTable['output_type'] = 'display_data';\n",
              "          await google.colab.output.renderOutput(dataTable, element);\n",
              "          const docLink = document.createElement('div');\n",
              "          docLink.innerHTML = docLinkHtml;\n",
              "          element.appendChild(docLink);\n",
              "        }\n",
              "      </script>\n",
              "    </div>\n",
              "  </div>\n",
              "  "
            ]
          },
          "metadata": {},
          "execution_count": 45
        }
      ]
    },
    {
      "cell_type": "code",
      "source": [],
      "metadata": {
        "id": "m3VrXUKhY5hs"
      },
      "execution_count": null,
      "outputs": []
    }
  ]
}