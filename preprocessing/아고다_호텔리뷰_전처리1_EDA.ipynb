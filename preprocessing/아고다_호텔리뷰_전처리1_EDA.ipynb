{
  "nbformat": 4,
  "nbformat_minor": 0,
  "metadata": {
    "colab": {
      "provenance": [],
      "authorship_tag": "ABX9TyP//m2mJ8nnu+N1ffYMra5Q",
      "include_colab_link": true
    },
    "kernelspec": {
      "name": "python3",
      "display_name": "Python 3"
    },
    "language_info": {
      "name": "python"
    }
  },
  "cells": [
    {
      "cell_type": "markdown",
      "metadata": {
        "id": "view-in-github",
        "colab_type": "text"
      },
      "source": [
        "<a href=\"https://colab.research.google.com/github/jiin124/review_project/blob/main/%EC%95%84%EA%B3%A0%EB%8B%A4_%ED%98%B8%ED%85%94%EB%A6%AC%EB%B7%B0_%EC%A0%84%EC%B2%98%EB%A6%AC1_EDA.ipynb\" target=\"_parent\"><img src=\"https://colab.research.google.com/assets/colab-badge.svg\" alt=\"Open In Colab\"/></a>"
      ]
    },
    {
      "cell_type": "code",
      "source": [
        "!sudo apt-get install -y fonts-nanum\n",
        "!sudo fc-cache -fv\n",
        "!rm ~/.cache/matplotlib -rf"
      ],
      "metadata": {
        "colab": {
          "base_uri": "https://localhost:8080/"
        },
        "id": "7wKmmxuRqLeb",
        "outputId": "d0f2b581-4669-4687-93d3-78af6bfdec58"
      },
      "execution_count": null,
      "outputs": [
        {
          "output_type": "stream",
          "name": "stdout",
          "text": [
            "Reading package lists... Done\n",
            "Building dependency tree       \n",
            "Reading state information... Done\n",
            "The following package was automatically installed and is no longer required:\n",
            "  libnvidia-common-460\n",
            "Use 'sudo apt autoremove' to remove it.\n",
            "The following NEW packages will be installed:\n",
            "  fonts-nanum\n",
            "0 upgraded, 1 newly installed, 0 to remove and 20 not upgraded.\n",
            "Need to get 9,604 kB of archives.\n",
            "After this operation, 29.5 MB of additional disk space will be used.\n",
            "Get:1 http://archive.ubuntu.com/ubuntu bionic/universe amd64 fonts-nanum all 20170925-1 [9,604 kB]\n",
            "Fetched 9,604 kB in 1s (14.4 MB/s)\n",
            "debconf: unable to initialize frontend: Dialog\n",
            "debconf: (No usable dialog-like program is installed, so the dialog based frontend cannot be used. at /usr/share/perl5/Debconf/FrontEnd/Dialog.pm line 76, <> line 1.)\n",
            "debconf: falling back to frontend: Readline\n",
            "debconf: unable to initialize frontend: Readline\n",
            "debconf: (This frontend requires a controlling tty.)\n",
            "debconf: falling back to frontend: Teletype\n",
            "dpkg-preconfigure: unable to re-open stdin: \n",
            "Selecting previously unselected package fonts-nanum.\n",
            "(Reading database ... 159447 files and directories currently installed.)\n",
            "Preparing to unpack .../fonts-nanum_20170925-1_all.deb ...\n",
            "Unpacking fonts-nanum (20170925-1) ...\n",
            "Setting up fonts-nanum (20170925-1) ...\n",
            "Processing triggers for fontconfig (2.12.6-0ubuntu2) ...\n",
            "/usr/share/fonts: caching, new cache contents: 0 fonts, 1 dirs\n",
            "/usr/share/fonts/truetype: caching, new cache contents: 0 fonts, 3 dirs\n",
            "/usr/share/fonts/truetype/humor-sans: caching, new cache contents: 1 fonts, 0 dirs\n",
            "/usr/share/fonts/truetype/liberation: caching, new cache contents: 16 fonts, 0 dirs\n",
            "/usr/share/fonts/truetype/nanum: caching, new cache contents: 10 fonts, 0 dirs\n",
            "/usr/local/share/fonts: caching, new cache contents: 0 fonts, 0 dirs\n",
            "/root/.local/share/fonts: skipping, no such directory\n",
            "/root/.fonts: skipping, no such directory\n",
            "/var/cache/fontconfig: cleaning cache directory\n",
            "/root/.cache/fontconfig: not cleaning non-existent cache directory\n",
            "/root/.fontconfig: not cleaning non-existent cache directory\n",
            "fc-cache: succeeded\n"
          ]
        }
      ]
    },
    {
      "cell_type": "code",
      "source": [
        "#한글 폰트 사용을 위해서 세팅\n",
        "from matplotlib import font_manager,rc\n",
        "\n",
        "font_path=\"/content/drive/MyDrive/NanumSquareB.ttf\"\n",
        "font=font_manager.FontProperties(fname=font_path)"
      ],
      "metadata": {
        "id": "JZvKQXYIqJn5"
      },
      "execution_count": null,
      "outputs": []
    },
    {
      "cell_type": "code",
      "source": [
        "plt.rc('font',family='NanumBarunGothic')"
      ],
      "metadata": {
        "id": "G9qIg377qLge"
      },
      "execution_count": null,
      "outputs": []
    },
    {
      "cell_type": "code",
      "execution_count": null,
      "metadata": {
        "id": "IlBfCr9bcmx1"
      },
      "outputs": [],
      "source": [
        "import pandas as pd\n",
        "import numpy as np\n",
        "import matplotlib.pyplot as plt\n",
        "import seaborn as sns\n",
        "import os\n",
        "plt.style.use('ggplot')\n",
        "import warnings\n",
        "warnings.filterwarnings('ignore')"
      ]
    },
    {
      "cell_type": "code",
      "source": [
        "gn=pd.read_csv('/content/강릉.csv',encoding='cp949')\n"
      ],
      "metadata": {
        "id": "xgqm3Vatcr0N"
      },
      "execution_count": null,
      "outputs": []
    },
    {
      "cell_type": "code",
      "source": [
        "b=pd.read_csv('/content/부산.csv',encoding='utf-8')\n"
      ],
      "metadata": {
        "id": "JZj3OFzzfsAB"
      },
      "execution_count": null,
      "outputs": []
    },
    {
      "cell_type": "code",
      "source": [
        "s=pd.read_csv('/content/서울.csv',encoding='cp949')\n"
      ],
      "metadata": {
        "id": "KJRelNnWgPy1"
      },
      "execution_count": null,
      "outputs": []
    },
    {
      "cell_type": "code",
      "source": [
        "y=pd.read_csv('/content/여수.csv',encoding='utf-8')\n",
        "j=pd.read_csv('/content/제주.csv',encoding='utf-8')"
      ],
      "metadata": {
        "id": "h74VIS8qgULW"
      },
      "execution_count": null,
      "outputs": []
    },
    {
      "cell_type": "code",
      "source": [
        "gn.head()"
      ],
      "metadata": {
        "colab": {
          "base_uri": "https://localhost:8080/",
          "height": 1000
        },
        "id": "_Rh88d_JgXrl",
        "outputId": "02c17031-c7b9-4435-cc0b-76915642d9ce"
      },
      "execution_count": null,
      "outputs": [
        {
          "output_type": "execute_result",
          "data": {
            "text/plain": [
              "   star Hotel_name review_rate review_grade reviewer_name        trip_type  \\\n",
              "0     1    강릉 나이아드         8.8           우수       Soohyun        커플/2인 여행객   \n",
              "1     1    강릉 나이아드         9.2           최고          sung  유아/아동 동반 가족 여행객   \n",
              "2     1    강릉 나이아드        10.0           최고        sunmae  유아/아동 동반 가족 여행객   \n",
              "3     1    강릉 나이아드         9.6           최고     GYEONGTAE          나홀로 여행객   \n",
              "4     1    강릉 나이아드        10.0           최고        seyeon        커플/2인 여행객   \n",
              "\n",
              "         room_type trip_date&trip_day            title  \\\n",
              "0      Motel twin9      2020년 8월 | 2박          아주 좋아요”   \n",
              "1  Motel Chimdae10     2020년 10월 | 1박       가성비 최고입니다”   \n",
              "2     Motel ondol9      2021년 2월 | 1박        적극추천합니다.”   \n",
              "3   Motel Chimdae9     2020년 10월 | 2박  가성비 좋은 경포해변 숙소”   \n",
              "4   Motel Chimdae9      2020년 5월 | 3박             대만족”   \n",
              "\n",
              "                                              review         review_date  \n",
              "0  전 삼만원정도에 이틀 잤는데 공용세탁기 주방 튜브도 하나 공짜고 방도 트원이라 다 ...   작성일: 2020년 8월 27일  \n",
              "1  방에서 냄새가 안나서 좋았습니다\\n걸어서 5분이면 바다도착하고 천천히 구경해도 10...  작성일: 2020년 10월 20일  \n",
              "2  저렵한가격에 가족동반4명 숙박할수있는 펜션모텔 이고요.  \\n넓은주차장, 근처 편의...    작성일: 2021년 3월 2일  \n",
              "3  외관과 내부도 깔끔하고 룸 컨디션은 보통이며 소형냉장고 드라이기 와이파이 필요한 것...  작성일: 2020년 10월 31일  \n",
              "4  큰 기대.안 하고 왔는데 사장님도 친절하시고 방도 깔끔하고 좋았어요! 다음에.강릉 ...   작성일: 2020년 5월 20일  "
            ],
            "text/html": [
              "\n",
              "  <div id=\"df-205dc373-eb20-4960-a83c-31ab5c1c64bc\">\n",
              "    <div class=\"colab-df-container\">\n",
              "      <div>\n",
              "<style scoped>\n",
              "    .dataframe tbody tr th:only-of-type {\n",
              "        vertical-align: middle;\n",
              "    }\n",
              "\n",
              "    .dataframe tbody tr th {\n",
              "        vertical-align: top;\n",
              "    }\n",
              "\n",
              "    .dataframe thead th {\n",
              "        text-align: right;\n",
              "    }\n",
              "</style>\n",
              "<table border=\"1\" class=\"dataframe\">\n",
              "  <thead>\n",
              "    <tr style=\"text-align: right;\">\n",
              "      <th></th>\n",
              "      <th>star</th>\n",
              "      <th>Hotel_name</th>\n",
              "      <th>review_rate</th>\n",
              "      <th>review_grade</th>\n",
              "      <th>reviewer_name</th>\n",
              "      <th>trip_type</th>\n",
              "      <th>room_type</th>\n",
              "      <th>trip_date&amp;trip_day</th>\n",
              "      <th>title</th>\n",
              "      <th>review</th>\n",
              "      <th>review_date</th>\n",
              "    </tr>\n",
              "  </thead>\n",
              "  <tbody>\n",
              "    <tr>\n",
              "      <th>0</th>\n",
              "      <td>1</td>\n",
              "      <td>강릉 나이아드</td>\n",
              "      <td>8.8</td>\n",
              "      <td>우수</td>\n",
              "      <td>Soohyun</td>\n",
              "      <td>커플/2인 여행객</td>\n",
              "      <td>Motel twin9</td>\n",
              "      <td>2020년 8월 | 2박</td>\n",
              "      <td>아주 좋아요”</td>\n",
              "      <td>전 삼만원정도에 이틀 잤는데 공용세탁기 주방 튜브도 하나 공짜고 방도 트원이라 다 ...</td>\n",
              "      <td>작성일: 2020년 8월 27일</td>\n",
              "    </tr>\n",
              "    <tr>\n",
              "      <th>1</th>\n",
              "      <td>1</td>\n",
              "      <td>강릉 나이아드</td>\n",
              "      <td>9.2</td>\n",
              "      <td>최고</td>\n",
              "      <td>sung</td>\n",
              "      <td>유아/아동 동반 가족 여행객</td>\n",
              "      <td>Motel Chimdae10</td>\n",
              "      <td>2020년 10월 | 1박</td>\n",
              "      <td>가성비 최고입니다”</td>\n",
              "      <td>방에서 냄새가 안나서 좋았습니다\\n걸어서 5분이면 바다도착하고 천천히 구경해도 10...</td>\n",
              "      <td>작성일: 2020년 10월 20일</td>\n",
              "    </tr>\n",
              "    <tr>\n",
              "      <th>2</th>\n",
              "      <td>1</td>\n",
              "      <td>강릉 나이아드</td>\n",
              "      <td>10.0</td>\n",
              "      <td>최고</td>\n",
              "      <td>sunmae</td>\n",
              "      <td>유아/아동 동반 가족 여행객</td>\n",
              "      <td>Motel ondol9</td>\n",
              "      <td>2021년 2월 | 1박</td>\n",
              "      <td>적극추천합니다.”</td>\n",
              "      <td>저렵한가격에 가족동반4명 숙박할수있는 펜션모텔 이고요.  \\n넓은주차장, 근처 편의...</td>\n",
              "      <td>작성일: 2021년 3월 2일</td>\n",
              "    </tr>\n",
              "    <tr>\n",
              "      <th>3</th>\n",
              "      <td>1</td>\n",
              "      <td>강릉 나이아드</td>\n",
              "      <td>9.6</td>\n",
              "      <td>최고</td>\n",
              "      <td>GYEONGTAE</td>\n",
              "      <td>나홀로 여행객</td>\n",
              "      <td>Motel Chimdae9</td>\n",
              "      <td>2020년 10월 | 2박</td>\n",
              "      <td>가성비 좋은 경포해변 숙소”</td>\n",
              "      <td>외관과 내부도 깔끔하고 룸 컨디션은 보통이며 소형냉장고 드라이기 와이파이 필요한 것...</td>\n",
              "      <td>작성일: 2020년 10월 31일</td>\n",
              "    </tr>\n",
              "    <tr>\n",
              "      <th>4</th>\n",
              "      <td>1</td>\n",
              "      <td>강릉 나이아드</td>\n",
              "      <td>10.0</td>\n",
              "      <td>최고</td>\n",
              "      <td>seyeon</td>\n",
              "      <td>커플/2인 여행객</td>\n",
              "      <td>Motel Chimdae9</td>\n",
              "      <td>2020년 5월 | 3박</td>\n",
              "      <td>대만족”</td>\n",
              "      <td>큰 기대.안 하고 왔는데 사장님도 친절하시고 방도 깔끔하고 좋았어요! 다음에.강릉 ...</td>\n",
              "      <td>작성일: 2020년 5월 20일</td>\n",
              "    </tr>\n",
              "  </tbody>\n",
              "</table>\n",
              "</div>\n",
              "      <button class=\"colab-df-convert\" onclick=\"convertToInteractive('df-205dc373-eb20-4960-a83c-31ab5c1c64bc')\"\n",
              "              title=\"Convert this dataframe to an interactive table.\"\n",
              "              style=\"display:none;\">\n",
              "        \n",
              "  <svg xmlns=\"http://www.w3.org/2000/svg\" height=\"24px\"viewBox=\"0 0 24 24\"\n",
              "       width=\"24px\">\n",
              "    <path d=\"M0 0h24v24H0V0z\" fill=\"none\"/>\n",
              "    <path d=\"M18.56 5.44l.94 2.06.94-2.06 2.06-.94-2.06-.94-.94-2.06-.94 2.06-2.06.94zm-11 1L8.5 8.5l.94-2.06 2.06-.94-2.06-.94L8.5 2.5l-.94 2.06-2.06.94zm10 10l.94 2.06.94-2.06 2.06-.94-2.06-.94-.94-2.06-.94 2.06-2.06.94z\"/><path d=\"M17.41 7.96l-1.37-1.37c-.4-.4-.92-.59-1.43-.59-.52 0-1.04.2-1.43.59L10.3 9.45l-7.72 7.72c-.78.78-.78 2.05 0 2.83L4 21.41c.39.39.9.59 1.41.59.51 0 1.02-.2 1.41-.59l7.78-7.78 2.81-2.81c.8-.78.8-2.07 0-2.86zM5.41 20L4 18.59l7.72-7.72 1.47 1.35L5.41 20z\"/>\n",
              "  </svg>\n",
              "      </button>\n",
              "      \n",
              "  <style>\n",
              "    .colab-df-container {\n",
              "      display:flex;\n",
              "      flex-wrap:wrap;\n",
              "      gap: 12px;\n",
              "    }\n",
              "\n",
              "    .colab-df-convert {\n",
              "      background-color: #E8F0FE;\n",
              "      border: none;\n",
              "      border-radius: 50%;\n",
              "      cursor: pointer;\n",
              "      display: none;\n",
              "      fill: #1967D2;\n",
              "      height: 32px;\n",
              "      padding: 0 0 0 0;\n",
              "      width: 32px;\n",
              "    }\n",
              "\n",
              "    .colab-df-convert:hover {\n",
              "      background-color: #E2EBFA;\n",
              "      box-shadow: 0px 1px 2px rgba(60, 64, 67, 0.3), 0px 1px 3px 1px rgba(60, 64, 67, 0.15);\n",
              "      fill: #174EA6;\n",
              "    }\n",
              "\n",
              "    [theme=dark] .colab-df-convert {\n",
              "      background-color: #3B4455;\n",
              "      fill: #D2E3FC;\n",
              "    }\n",
              "\n",
              "    [theme=dark] .colab-df-convert:hover {\n",
              "      background-color: #434B5C;\n",
              "      box-shadow: 0px 1px 3px 1px rgba(0, 0, 0, 0.15);\n",
              "      filter: drop-shadow(0px 1px 2px rgba(0, 0, 0, 0.3));\n",
              "      fill: #FFFFFF;\n",
              "    }\n",
              "  </style>\n",
              "\n",
              "      <script>\n",
              "        const buttonEl =\n",
              "          document.querySelector('#df-205dc373-eb20-4960-a83c-31ab5c1c64bc button.colab-df-convert');\n",
              "        buttonEl.style.display =\n",
              "          google.colab.kernel.accessAllowed ? 'block' : 'none';\n",
              "\n",
              "        async function convertToInteractive(key) {\n",
              "          const element = document.querySelector('#df-205dc373-eb20-4960-a83c-31ab5c1c64bc');\n",
              "          const dataTable =\n",
              "            await google.colab.kernel.invokeFunction('convertToInteractive',\n",
              "                                                     [key], {});\n",
              "          if (!dataTable) return;\n",
              "\n",
              "          const docLinkHtml = 'Like what you see? Visit the ' +\n",
              "            '<a target=\"_blank\" href=https://colab.research.google.com/notebooks/data_table.ipynb>data table notebook</a>'\n",
              "            + ' to learn more about interactive tables.';\n",
              "          element.innerHTML = '';\n",
              "          dataTable['output_type'] = 'display_data';\n",
              "          await google.colab.output.renderOutput(dataTable, element);\n",
              "          const docLink = document.createElement('div');\n",
              "          docLink.innerHTML = docLinkHtml;\n",
              "          element.appendChild(docLink);\n",
              "        }\n",
              "      </script>\n",
              "    </div>\n",
              "  </div>\n",
              "  "
            ]
          },
          "metadata": {},
          "execution_count": 12
        }
      ]
    },
    {
      "cell_type": "code",
      "source": [
        "gn.info()"
      ],
      "metadata": {
        "colab": {
          "base_uri": "https://localhost:8080/"
        },
        "id": "Yqfq8ImjgY94",
        "outputId": "e224f01c-a8ab-4f26-d0c9-445618d38643"
      },
      "execution_count": null,
      "outputs": [
        {
          "output_type": "stream",
          "name": "stdout",
          "text": [
            "<class 'pandas.core.frame.DataFrame'>\n",
            "RangeIndex: 520 entries, 0 to 519\n",
            "Data columns (total 11 columns):\n",
            " #   Column              Non-Null Count  Dtype \n",
            "---  ------              --------------  ----- \n",
            " 0   star                520 non-null    int64 \n",
            " 1   Hotel_name          520 non-null    object\n",
            " 2   review_rate         520 non-null    object\n",
            " 3   review_grade        405 non-null    object\n",
            " 4   reviewer_name       518 non-null    object\n",
            " 5   trip_type           520 non-null    object\n",
            " 6   room_type           514 non-null    object\n",
            " 7   trip_date&trip_day  519 non-null    object\n",
            " 8   title               520 non-null    object\n",
            " 9   review              520 non-null    object\n",
            " 10  review_date         520 non-null    object\n",
            "dtypes: int64(1), object(10)\n",
            "memory usage: 44.8+ KB\n"
          ]
        }
      ]
    },
    {
      "cell_type": "code",
      "source": [
        "gn.columns"
      ],
      "metadata": {
        "colab": {
          "base_uri": "https://localhost:8080/"
        },
        "id": "OVTs8x3AgZqf",
        "outputId": "a6725a49-0192-4e7f-fae8-dba68504bceb"
      },
      "execution_count": null,
      "outputs": [
        {
          "output_type": "execute_result",
          "data": {
            "text/plain": [
              "Index(['star', 'Hotel_name', 'review_rate', 'review_grade', 'reviewer_name',\n",
              "       'trip_type', 'room_type', 'trip_date&trip_day', 'title', 'review',\n",
              "       'review_date'],\n",
              "      dtype='object')"
            ]
          },
          "metadata": {},
          "execution_count": 20
        }
      ]
    },
    {
      "cell_type": "code",
      "source": [
        "b.columns"
      ],
      "metadata": {
        "colab": {
          "base_uri": "https://localhost:8080/"
        },
        "id": "zh77zn6ggmYp",
        "outputId": "97378caf-2cde-429e-f1fa-4aeff422db14"
      },
      "execution_count": null,
      "outputs": [
        {
          "output_type": "execute_result",
          "data": {
            "text/plain": [
              "Index(['star', 'Hotel_name', 'review_rate', 'review_grade', 'reviewer_name',\n",
              "       'trip_type', 'room_type', 'trip_date&trip_day', 'title', 'review',\n",
              "       'review_date'],\n",
              "      dtype='object')"
            ]
          },
          "metadata": {},
          "execution_count": 21
        }
      ]
    },
    {
      "cell_type": "code",
      "source": [
        "s.columns"
      ],
      "metadata": {
        "colab": {
          "base_uri": "https://localhost:8080/"
        },
        "id": "0Y95P9MYgnUr",
        "outputId": "07237af0-d152-4692-c347-502089285f73"
      },
      "execution_count": null,
      "outputs": [
        {
          "output_type": "execute_result",
          "data": {
            "text/plain": [
              "Index(['star', 'Hotel_name', 'review_rate', 'review_grade', 'reviewer_name',\n",
              "       'trip_type', 'room_type', 'trip_date&trip_day', 'title', 'review',\n",
              "       'review_date'],\n",
              "      dtype='object')"
            ]
          },
          "metadata": {},
          "execution_count": 22
        }
      ]
    },
    {
      "cell_type": "code",
      "source": [
        "y.columns"
      ],
      "metadata": {
        "colab": {
          "base_uri": "https://localhost:8080/"
        },
        "id": "ImzVFVDMgn13",
        "outputId": "9dbcf1d1-29e5-441b-957f-b81403e4e796"
      },
      "execution_count": null,
      "outputs": [
        {
          "output_type": "execute_result",
          "data": {
            "text/plain": [
              "Index(['star', 'Hotel_name', 'review_rate', 'review_grade', 'reviewer_name',\n",
              "       'trip_type', 'room_type', 'trip_date&trip_day', 'title', 'review',\n",
              "       'review_date'],\n",
              "      dtype='object')"
            ]
          },
          "metadata": {},
          "execution_count": 23
        }
      ]
    },
    {
      "cell_type": "code",
      "source": [
        "j.columns"
      ],
      "metadata": {
        "colab": {
          "base_uri": "https://localhost:8080/"
        },
        "id": "lqkGV9_Egpb7",
        "outputId": "08f13220-88d5-4e8a-e579-fddc3ca7dfe6"
      },
      "execution_count": null,
      "outputs": [
        {
          "output_type": "execute_result",
          "data": {
            "text/plain": [
              "Index(['star', 'Hotel_name', 'review_rate', 'review_grade', 'reviewer_name',\n",
              "       'trip_type', 'room_type', 'trip_date&trip_day', 'title', 'review',\n",
              "       'review_date'],\n",
              "      dtype='object')"
            ]
          },
          "metadata": {},
          "execution_count": 24
        }
      ]
    },
    {
      "cell_type": "code",
      "source": [
        "len(j.columns)"
      ],
      "metadata": {
        "colab": {
          "base_uri": "https://localhost:8080/"
        },
        "id": "r308cOYehBDX",
        "outputId": "07288b4e-1f8a-4ae6-9258-132b3c0a579d"
      },
      "execution_count": null,
      "outputs": [
        {
          "output_type": "execute_result",
          "data": {
            "text/plain": [
              "11"
            ]
          },
          "metadata": {},
          "execution_count": 26
        }
      ]
    },
    {
      "cell_type": "code",
      "source": [
        "y.drop('Unnamed: 0',axis=1,inplace=True)\n",
        "j.drop('Unnamed: 0',axis=1,inplace=True)\n",
        "b.drop('Unnamed: 0',axis=1,inplace=True)"
      ],
      "metadata": {
        "id": "YJGaFQbKgqD-"
      },
      "execution_count": null,
      "outputs": []
    },
    {
      "cell_type": "code",
      "source": [
        "df=pd.concat([s,b,j,y,gn],axis=0)\n",
        "df.info()"
      ],
      "metadata": {
        "colab": {
          "base_uri": "https://localhost:8080/"
        },
        "id": "UsXMN_V7g0lb",
        "outputId": "be6245cf-e46f-4a38-db4e-81876772f31c"
      },
      "execution_count": null,
      "outputs": [
        {
          "output_type": "stream",
          "name": "stdout",
          "text": [
            "<class 'pandas.core.frame.DataFrame'>\n",
            "Int64Index: 2543 entries, 0 to 519\n",
            "Data columns (total 11 columns):\n",
            " #   Column              Non-Null Count  Dtype \n",
            "---  ------              --------------  ----- \n",
            " 0   star                2543 non-null   int64 \n",
            " 1   Hotel_name          2543 non-null   object\n",
            " 2   review_rate         2543 non-null   object\n",
            " 3   review_grade        2136 non-null   object\n",
            " 4   reviewer_name       2538 non-null   object\n",
            " 5   trip_type           2543 non-null   object\n",
            " 6   room_type           2464 non-null   object\n",
            " 7   trip_date&trip_day  2541 non-null   object\n",
            " 8   title               2543 non-null   object\n",
            " 9   review              2543 non-null   object\n",
            " 10  review_date         2543 non-null   object\n",
            "dtypes: int64(1), object(10)\n",
            "memory usage: 238.4+ KB\n"
          ]
        }
      ]
    },
    {
      "cell_type": "code",
      "source": [
        "df.to_csv('hotel_review_1.csv',index=False)"
      ],
      "metadata": {
        "id": "vlK6Iidlg-um"
      },
      "execution_count": null,
      "outputs": []
    },
    {
      "cell_type": "code",
      "source": [
        "df=pd.read_csv('/content/hotel_review_1_pre.csv',encoding='cp949')\n",
        "df.head()"
      ],
      "metadata": {
        "colab": {
          "base_uri": "https://localhost:8080/",
          "height": 1000
        },
        "id": "N0HcrJYdhSOA",
        "outputId": "13ea6bac-40df-4260-fc27-8b406196c6a9"
      },
      "execution_count": null,
      "outputs": [
        {
          "output_type": "execute_result",
          "data": {
            "text/plain": [
              "   star Hotel_name  review_rate review_grade reviewer_name  trip_type  \\\n",
              "0     1    유원호텔_서초          9.2           최고          jeon    나홀로 여행객   \n",
              "1     1    유원호텔_서초          7.2           좋음       Joonvum     출장 여행객   \n",
              "2     1    유원호텔_서초          8.8           우수      JaeYoung    나홀로 여행객   \n",
              "3     1    유원호텔_서초          9.0           최고           Hye     그룹 여행객   \n",
              "4     1    유원호텔_서초         10.0           최고       SUNGMIN  커플/2인 여행객   \n",
              "\n",
              "    room_type  trip_date_year  trip_date_month  \\\n",
              "0  스탠다드 더블 베드          2020.0             12.0   \n",
              "1  스탠다드 더블 베드          2019.0              6.0   \n",
              "2    디럭스 더블베드          2019.0              9.0   \n",
              "3       스탠다드룸          2016.0              1.0   \n",
              "4  스탠다드 더블 베드          2012.0              8.0   \n",
              "\n",
              "                                              review trip_day review_date  \n",
              "0  아버님 서울 병원 방문 목적으로 혼자 숙박하셔야 되어 걱정많았으나 사전 전화 문의에...       1박  2021-01-01  \n",
              "1  3호선 남부터미널 역이 매우 가깝고 교대역까지도 도보로 이동 가능한 거리에 위치함....       1박  2019-07-07  \n",
              "2  디럭스 더블베드룸에 숙박했습니다. 방은 깨끗했고 직원분들도 친절했습니다.\\n남부터미...       1박  2019-10-01  \n",
              "3  숙박의 목적에 따라 평가가 달라지겠지만 저희는 5명 친구들과 함께 하는 거라 도란도...       1박  2016-01-19  \n",
              "4  일단 남부터미널에서 가깝고 놀라울 만큼 저렴한 숙박료에 감탄했습니다. 지방에 사는지...       1박  2012-08-23  "
            ],
            "text/html": [
              "\n",
              "  <div id=\"df-96f67516-de07-4e95-8fa8-b8858dc24de6\">\n",
              "    <div class=\"colab-df-container\">\n",
              "      <div>\n",
              "<style scoped>\n",
              "    .dataframe tbody tr th:only-of-type {\n",
              "        vertical-align: middle;\n",
              "    }\n",
              "\n",
              "    .dataframe tbody tr th {\n",
              "        vertical-align: top;\n",
              "    }\n",
              "\n",
              "    .dataframe thead th {\n",
              "        text-align: right;\n",
              "    }\n",
              "</style>\n",
              "<table border=\"1\" class=\"dataframe\">\n",
              "  <thead>\n",
              "    <tr style=\"text-align: right;\">\n",
              "      <th></th>\n",
              "      <th>star</th>\n",
              "      <th>Hotel_name</th>\n",
              "      <th>review_rate</th>\n",
              "      <th>review_grade</th>\n",
              "      <th>reviewer_name</th>\n",
              "      <th>trip_type</th>\n",
              "      <th>room_type</th>\n",
              "      <th>trip_date_year</th>\n",
              "      <th>trip_date_month</th>\n",
              "      <th>review</th>\n",
              "      <th>trip_day</th>\n",
              "      <th>review_date</th>\n",
              "    </tr>\n",
              "  </thead>\n",
              "  <tbody>\n",
              "    <tr>\n",
              "      <th>0</th>\n",
              "      <td>1</td>\n",
              "      <td>유원호텔_서초</td>\n",
              "      <td>9.2</td>\n",
              "      <td>최고</td>\n",
              "      <td>jeon</td>\n",
              "      <td>나홀로 여행객</td>\n",
              "      <td>스탠다드 더블 베드</td>\n",
              "      <td>2020.0</td>\n",
              "      <td>12.0</td>\n",
              "      <td>아버님 서울 병원 방문 목적으로 혼자 숙박하셔야 되어 걱정많았으나 사전 전화 문의에...</td>\n",
              "      <td>1박</td>\n",
              "      <td>2021-01-01</td>\n",
              "    </tr>\n",
              "    <tr>\n",
              "      <th>1</th>\n",
              "      <td>1</td>\n",
              "      <td>유원호텔_서초</td>\n",
              "      <td>7.2</td>\n",
              "      <td>좋음</td>\n",
              "      <td>Joonvum</td>\n",
              "      <td>출장 여행객</td>\n",
              "      <td>스탠다드 더블 베드</td>\n",
              "      <td>2019.0</td>\n",
              "      <td>6.0</td>\n",
              "      <td>3호선 남부터미널 역이 매우 가깝고 교대역까지도 도보로 이동 가능한 거리에 위치함....</td>\n",
              "      <td>1박</td>\n",
              "      <td>2019-07-07</td>\n",
              "    </tr>\n",
              "    <tr>\n",
              "      <th>2</th>\n",
              "      <td>1</td>\n",
              "      <td>유원호텔_서초</td>\n",
              "      <td>8.8</td>\n",
              "      <td>우수</td>\n",
              "      <td>JaeYoung</td>\n",
              "      <td>나홀로 여행객</td>\n",
              "      <td>디럭스 더블베드</td>\n",
              "      <td>2019.0</td>\n",
              "      <td>9.0</td>\n",
              "      <td>디럭스 더블베드룸에 숙박했습니다. 방은 깨끗했고 직원분들도 친절했습니다.\\n남부터미...</td>\n",
              "      <td>1박</td>\n",
              "      <td>2019-10-01</td>\n",
              "    </tr>\n",
              "    <tr>\n",
              "      <th>3</th>\n",
              "      <td>1</td>\n",
              "      <td>유원호텔_서초</td>\n",
              "      <td>9.0</td>\n",
              "      <td>최고</td>\n",
              "      <td>Hye</td>\n",
              "      <td>그룹 여행객</td>\n",
              "      <td>스탠다드룸</td>\n",
              "      <td>2016.0</td>\n",
              "      <td>1.0</td>\n",
              "      <td>숙박의 목적에 따라 평가가 달라지겠지만 저희는 5명 친구들과 함께 하는 거라 도란도...</td>\n",
              "      <td>1박</td>\n",
              "      <td>2016-01-19</td>\n",
              "    </tr>\n",
              "    <tr>\n",
              "      <th>4</th>\n",
              "      <td>1</td>\n",
              "      <td>유원호텔_서초</td>\n",
              "      <td>10.0</td>\n",
              "      <td>최고</td>\n",
              "      <td>SUNGMIN</td>\n",
              "      <td>커플/2인 여행객</td>\n",
              "      <td>스탠다드 더블 베드</td>\n",
              "      <td>2012.0</td>\n",
              "      <td>8.0</td>\n",
              "      <td>일단 남부터미널에서 가깝고 놀라울 만큼 저렴한 숙박료에 감탄했습니다. 지방에 사는지...</td>\n",
              "      <td>1박</td>\n",
              "      <td>2012-08-23</td>\n",
              "    </tr>\n",
              "  </tbody>\n",
              "</table>\n",
              "</div>\n",
              "      <button class=\"colab-df-convert\" onclick=\"convertToInteractive('df-96f67516-de07-4e95-8fa8-b8858dc24de6')\"\n",
              "              title=\"Convert this dataframe to an interactive table.\"\n",
              "              style=\"display:none;\">\n",
              "        \n",
              "  <svg xmlns=\"http://www.w3.org/2000/svg\" height=\"24px\"viewBox=\"0 0 24 24\"\n",
              "       width=\"24px\">\n",
              "    <path d=\"M0 0h24v24H0V0z\" fill=\"none\"/>\n",
              "    <path d=\"M18.56 5.44l.94 2.06.94-2.06 2.06-.94-2.06-.94-.94-2.06-.94 2.06-2.06.94zm-11 1L8.5 8.5l.94-2.06 2.06-.94-2.06-.94L8.5 2.5l-.94 2.06-2.06.94zm10 10l.94 2.06.94-2.06 2.06-.94-2.06-.94-.94-2.06-.94 2.06-2.06.94z\"/><path d=\"M17.41 7.96l-1.37-1.37c-.4-.4-.92-.59-1.43-.59-.52 0-1.04.2-1.43.59L10.3 9.45l-7.72 7.72c-.78.78-.78 2.05 0 2.83L4 21.41c.39.39.9.59 1.41.59.51 0 1.02-.2 1.41-.59l7.78-7.78 2.81-2.81c.8-.78.8-2.07 0-2.86zM5.41 20L4 18.59l7.72-7.72 1.47 1.35L5.41 20z\"/>\n",
              "  </svg>\n",
              "      </button>\n",
              "      \n",
              "  <style>\n",
              "    .colab-df-container {\n",
              "      display:flex;\n",
              "      flex-wrap:wrap;\n",
              "      gap: 12px;\n",
              "    }\n",
              "\n",
              "    .colab-df-convert {\n",
              "      background-color: #E8F0FE;\n",
              "      border: none;\n",
              "      border-radius: 50%;\n",
              "      cursor: pointer;\n",
              "      display: none;\n",
              "      fill: #1967D2;\n",
              "      height: 32px;\n",
              "      padding: 0 0 0 0;\n",
              "      width: 32px;\n",
              "    }\n",
              "\n",
              "    .colab-df-convert:hover {\n",
              "      background-color: #E2EBFA;\n",
              "      box-shadow: 0px 1px 2px rgba(60, 64, 67, 0.3), 0px 1px 3px 1px rgba(60, 64, 67, 0.15);\n",
              "      fill: #174EA6;\n",
              "    }\n",
              "\n",
              "    [theme=dark] .colab-df-convert {\n",
              "      background-color: #3B4455;\n",
              "      fill: #D2E3FC;\n",
              "    }\n",
              "\n",
              "    [theme=dark] .colab-df-convert:hover {\n",
              "      background-color: #434B5C;\n",
              "      box-shadow: 0px 1px 3px 1px rgba(0, 0, 0, 0.15);\n",
              "      filter: drop-shadow(0px 1px 2px rgba(0, 0, 0, 0.3));\n",
              "      fill: #FFFFFF;\n",
              "    }\n",
              "  </style>\n",
              "\n",
              "      <script>\n",
              "        const buttonEl =\n",
              "          document.querySelector('#df-96f67516-de07-4e95-8fa8-b8858dc24de6 button.colab-df-convert');\n",
              "        buttonEl.style.display =\n",
              "          google.colab.kernel.accessAllowed ? 'block' : 'none';\n",
              "\n",
              "        async function convertToInteractive(key) {\n",
              "          const element = document.querySelector('#df-96f67516-de07-4e95-8fa8-b8858dc24de6');\n",
              "          const dataTable =\n",
              "            await google.colab.kernel.invokeFunction('convertToInteractive',\n",
              "                                                     [key], {});\n",
              "          if (!dataTable) return;\n",
              "\n",
              "          const docLinkHtml = 'Like what you see? Visit the ' +\n",
              "            '<a target=\"_blank\" href=https://colab.research.google.com/notebooks/data_table.ipynb>data table notebook</a>'\n",
              "            + ' to learn more about interactive tables.';\n",
              "          element.innerHTML = '';\n",
              "          dataTable['output_type'] = 'display_data';\n",
              "          await google.colab.output.renderOutput(dataTable, element);\n",
              "          const docLink = document.createElement('div');\n",
              "          docLink.innerHTML = docLinkHtml;\n",
              "          element.appendChild(docLink);\n",
              "        }\n",
              "      </script>\n",
              "    </div>\n",
              "  </div>\n",
              "  "
            ]
          },
          "metadata": {},
          "execution_count": 5
        }
      ]
    },
    {
      "cell_type": "code",
      "source": [
        "df.info()"
      ],
      "metadata": {
        "colab": {
          "base_uri": "https://localhost:8080/"
        },
        "id": "LPN9p9uBlIpd",
        "outputId": "d764f9e7-a834-412a-f788-b9caa493b1ca"
      },
      "execution_count": null,
      "outputs": [
        {
          "output_type": "stream",
          "name": "stdout",
          "text": [
            "<class 'pandas.core.frame.DataFrame'>\n",
            "RangeIndex: 2543 entries, 0 to 2542\n",
            "Data columns (total 12 columns):\n",
            " #   Column           Non-Null Count  Dtype  \n",
            "---  ------           --------------  -----  \n",
            " 0   star             2543 non-null   int64  \n",
            " 1   Hotel_name       2543 non-null   object \n",
            " 2   review_rate      2542 non-null   float64\n",
            " 3   review_grade     2136 non-null   object \n",
            " 4   reviewer_name    2538 non-null   object \n",
            " 5   trip_type        2543 non-null   object \n",
            " 6   room_type        2463 non-null   object \n",
            " 7   trip_date_year   2542 non-null   float64\n",
            " 8   trip_date_month  2542 non-null   float64\n",
            " 9   review           2543 non-null   object \n",
            " 10  trip_day         2542 non-null   object \n",
            " 11  review_date      2543 non-null   object \n",
            "dtypes: float64(3), int64(1), object(8)\n",
            "memory usage: 238.5+ KB\n"
          ]
        }
      ]
    },
    {
      "cell_type": "code",
      "source": [
        "#review_date 날짜형식으로 바꾸기\n",
        "import datetime\n",
        "\n",
        "df['review_date']=pd.to_datetime(df['review_date'])"
      ],
      "metadata": {
        "id": "d5yuI31YlLle"
      },
      "execution_count": null,
      "outputs": []
    },
    {
      "cell_type": "code",
      "source": [
        "df.info()"
      ],
      "metadata": {
        "colab": {
          "base_uri": "https://localhost:8080/"
        },
        "id": "UW1qG_pil_yS",
        "outputId": "df07eaf7-487b-4fbd-ea18-4a90c053be55"
      },
      "execution_count": null,
      "outputs": [
        {
          "output_type": "stream",
          "name": "stdout",
          "text": [
            "<class 'pandas.core.frame.DataFrame'>\n",
            "RangeIndex: 2543 entries, 0 to 2542\n",
            "Data columns (total 12 columns):\n",
            " #   Column           Non-Null Count  Dtype         \n",
            "---  ------           --------------  -----         \n",
            " 0   star             2543 non-null   int64         \n",
            " 1   Hotel_name       2543 non-null   object        \n",
            " 2   review_rate      2542 non-null   float64       \n",
            " 3   review_grade     2136 non-null   object        \n",
            " 4   reviewer_name    2538 non-null   object        \n",
            " 5   trip_type        2543 non-null   object        \n",
            " 6   room_type        2463 non-null   object        \n",
            " 7   trip_date_year   2542 non-null   float64       \n",
            " 8   trip_date_month  2542 non-null   float64       \n",
            " 9   review           2543 non-null   object        \n",
            " 10  trip_day         2542 non-null   object        \n",
            " 11  review_date      2543 non-null   datetime64[ns]\n",
            "dtypes: datetime64[ns](1), float64(3), int64(1), object(7)\n",
            "memory usage: 238.5+ KB\n"
          ]
        }
      ]
    },
    {
      "cell_type": "markdown",
      "source": [
        "# NULL값 처리하지 않고 EDA"
      ],
      "metadata": {
        "id": "8U3P0cy6oEIa"
      }
    },
    {
      "cell_type": "code",
      "source": [
        "sns.countplot(data=df,x='star')"
      ],
      "metadata": {
        "colab": {
          "base_uri": "https://localhost:8080/",
          "height": 299
        },
        "id": "pWD21ncQoDq-",
        "outputId": "dea88ddc-3791-465b-d805-1ea0eab072c6"
      },
      "execution_count": null,
      "outputs": [
        {
          "output_type": "execute_result",
          "data": {
            "text/plain": [
              "<matplotlib.axes._subplots.AxesSubplot at 0x7f360bf40ad0>"
            ]
          },
          "metadata": {},
          "execution_count": 9
        },
        {
          "output_type": "display_data",
          "data": {
            "text/plain": [
              "<Figure size 432x288 with 1 Axes>"
            ],
            "image/png": "[encoded data removed]"
          },
          "metadata": {}
        }
      ]
    },
    {
      "cell_type": "code",
      "source": [
        "df['star'].value_counts()"
      ],
      "metadata": {
        "colab": {
          "base_uri": "https://localhost:8080/"
        },
        "id": "2ONijnKQoA1n",
        "outputId": "fc0dda59-b653-4652-dfcf-7740bd9bde5f"
      },
      "execution_count": null,
      "outputs": [
        {
          "output_type": "execute_result",
          "data": {
            "text/plain": [
              "1    527\n",
              "5    510\n",
              "2    506\n",
              "3    500\n",
              "4    500\n",
              "Name: star, dtype: int64"
            ]
          },
          "metadata": {},
          "execution_count": 10
        }
      ]
    },
    {
      "cell_type": "code",
      "source": [
        "sns.histplot(data=df,x='review_rate')"
      ],
      "metadata": {
        "colab": {
          "base_uri": "https://localhost:8080/",
          "height": 302
        },
        "id": "KKmdUvGeo9jR",
        "outputId": "94b8e00f-00e5-4244-e36d-37cce486091a"
      },
      "execution_count": null,
      "outputs": [
        {
          "output_type": "execute_result",
          "data": {
            "text/plain": [
              "<matplotlib.axes._subplots.AxesSubplot at 0x7f360be8f950>"
            ]
          },
          "metadata": {},
          "execution_count": 11
        },
        {
          "output_type": "display_data",
          "data": {
            "text/plain": [
              "<Figure size 432x288 with 1 Axes>"
            ],
            "image/png": "[encoded data removed]"
          },
          "metadata": {}
        }
      ]
    },
    {
      "cell_type": "code",
      "source": [
        "sns.countplot(data=df,x='review_grade')"
      ],
      "metadata": {
        "colab": {
          "base_uri": "https://localhost:8080/",
          "height": 299
        },
        "id": "7gytUSVNpD54",
        "outputId": "51bb3162-8d66-453c-b983-f9ca08d46d5b"
      },
      "execution_count": null,
      "outputs": [
        {
          "output_type": "execute_result",
          "data": {
            "text/plain": [
              "<matplotlib.axes._subplots.AxesSubplot at 0x7f360b924650>"
            ]
          },
          "metadata": {},
          "execution_count": 12
        },
        {
          "output_type": "display_data",
          "data": {
            "text/plain": [
              "<Figure size 432x288 with 1 Axes>"
            ],
            "image/png": "[encoded data removed]"
          },
          "metadata": {}
        }
      ]
    },
    {
      "cell_type": "code",
      "source": [
        "df.columns"
      ],
      "metadata": {
        "colab": {
          "base_uri": "https://localhost:8080/"
        },
        "id": "qJpfqEsqpqGt",
        "outputId": "39d920bc-e2f3-4ef2-ae12-7be1086d01ca"
      },
      "execution_count": null,
      "outputs": [
        {
          "output_type": "execute_result",
          "data": {
            "text/plain": [
              "Index(['star', 'Hotel_name', 'review_rate', 'review_grade', 'reviewer_name',\n",
              "       'trip_type', 'room_type', 'trip_date_year', 'trip_date_month', 'review',\n",
              "       'trip_day', 'review_date'],\n",
              "      dtype='object')"
            ]
          },
          "metadata": {},
          "execution_count": 13
        }
      ]
    },
    {
      "cell_type": "code",
      "source": [
        "df['trip_type'].value_counts()"
      ],
      "metadata": {
        "colab": {
          "base_uri": "https://localhost:8080/"
        },
        "id": "0C6WWmuHq0dw",
        "outputId": "668c71c1-1956-4c0b-ea24-928606624ad0"
      },
      "execution_count": null,
      "outputs": [
        {
          "output_type": "execute_result",
          "data": {
            "text/plain": [
              "커플/2인 여행객          911\n",
              "나홀로 여행객            678\n",
              "유아/아동 동반 가족 여행객    327\n",
              "출장 여행객             222\n",
              "청소년 동반 가족 여행객      206\n",
              "그룹 여행객             199\n",
              "Name: trip_type, dtype: int64"
            ]
          },
          "metadata": {},
          "execution_count": 14
        }
      ]
    },
    {
      "cell_type": "code",
      "source": [
        "plt.figure(figsize=(5,5))\n",
        "plt.pie(df['trip_type'].value_counts(),\n",
        "       labels=df['trip_type'].value_counts().index,\n",
        "       autopct='%d%%',\n",
        "        colors=sns.color_palette('hls',len(df['trip_type'].value_counts().index)),\n",
        "       textprops={'fontsize':12})\n",
        "plt.axis('equal')\n",
        "plt.title(\"trip_type\", fontsize=16, pad=50)\n",
        "plt.show()"
      ],
      "metadata": {
        "colab": {
          "base_uri": "https://localhost:8080/",
          "height": 370
        },
        "id": "QOofXwWIq5bO",
        "outputId": "02261803-871c-4bd0-9160-29c387dcb019"
      },
      "execution_count": null,
      "outputs": [
        {
          "output_type": "display_data",
          "data": {
            "text/plain": [
              "<Figure size 360x360 with 1 Axes>"
            ],
            "image/png": "[encoded data removed]"
          },
          "metadata": {}
        }
      ]
    },
    {
      "cell_type": "code",
      "source": [
        "df['room_type'].value_counts()[:10]"
      ],
      "metadata": {
        "colab": {
          "base_uri": "https://localhost:8080/"
        },
        "id": "wbxzrGr-rJ6E",
        "outputId": "0ddbc411-9090-41a9-e3f0-75e5bbb76663"
      },
      "execution_count": null,
      "outputs": [
        {
          "output_type": "execute_result",
          "data": {
            "text/plain": [
              "스탠다드 트윈                      165\n",
              "스탠다드 더블                      154\n",
              "슈페리어 트윈                      128\n",
              "스탠다드 더블룸                     121\n",
              "슈페리어 더블                       96\n",
              "패밀리 트윈                        72\n",
              "패밀리 트윈룸                       62\n",
              "6 베드 도미토리 내 1인 예약 (여성 전용)     57\n",
              "디럭스 더블                        57\n",
              "디럭스 트윈룸                       56\n",
              "Name: room_type, dtype: int64"
            ]
          },
          "metadata": {},
          "execution_count": 18
        }
      ]
    },
    {
      "cell_type": "code",
      "source": [
        "sns.countplot(data=df,x='trip_date_year')"
      ],
      "metadata": {
        "colab": {
          "base_uri": "https://localhost:8080/",
          "height": 299
        },
        "id": "GEBG_EY-repr",
        "outputId": "e4b5853b-df99-4738-fb52-f781b33fc89d"
      },
      "execution_count": null,
      "outputs": [
        {
          "output_type": "execute_result",
          "data": {
            "text/plain": [
              "<matplotlib.axes._subplots.AxesSubplot at 0x7f360749ba50>"
            ]
          },
          "metadata": {},
          "execution_count": 19
        },
        {
          "output_type": "display_data",
          "data": {
            "text/plain": [
              "<Figure size 432x288 with 1 Axes>"
            ],
            "image/png": "[encoded data removed]"
          },
          "metadata": {}
        }
      ]
    },
    {
      "cell_type": "code",
      "source": [
        "sns.countplot(data=df,x='trip_date_month')"
      ],
      "metadata": {
        "colab": {
          "base_uri": "https://localhost:8080/",
          "height": 299
        },
        "id": "hjTVk0uPsNP9",
        "outputId": "76ed0aad-e00b-4f3d-e14c-f64db512f1a7"
      },
      "execution_count": null,
      "outputs": [
        {
          "output_type": "execute_result",
          "data": {
            "text/plain": [
              "<matplotlib.axes._subplots.AxesSubplot at 0x7f3607231450>"
            ]
          },
          "metadata": {},
          "execution_count": 22
        },
        {
          "output_type": "display_data",
          "data": {
            "text/plain": [
              "<Figure size 432x288 with 1 Axes>"
            ],
            "image/png": "[encoded data removed]"
          },
          "metadata": {}
        }
      ]
    },
    {
      "cell_type": "code",
      "source": [
        "df['review_len']=0"
      ],
      "metadata": {
        "id": "oct6RCyEuQs-"
      },
      "execution_count": null,
      "outputs": []
    },
    {
      "cell_type": "code",
      "source": [
        "for i in range(len(df)):\n",
        "  df['review_len'][i]=len(df['review'][i])"
      ],
      "metadata": {
        "id": "pK6hGPuptmMm"
      },
      "execution_count": null,
      "outputs": []
    },
    {
      "cell_type": "code",
      "source": [
        "df.head()"
      ],
      "metadata": {
        "colab": {
          "base_uri": "https://localhost:8080/",
          "height": 1000
        },
        "id": "B4y-iE1Ttoyb",
        "outputId": "b54aba82-bc11-4542-a75b-9fe689b0bffd"
      },
      "execution_count": null,
      "outputs": [
        {
          "output_type": "execute_result",
          "data": {
            "text/plain": [
              "   star Hotel_name  review_rate review_grade reviewer_name  trip_type  \\\n",
              "0     1    유원호텔_서초          9.2           최고          jeon    나홀로 여행객   \n",
              "1     1    유원호텔_서초          7.2           좋음       Joonvum     출장 여행객   \n",
              "2     1    유원호텔_서초          8.8           우수      JaeYoung    나홀로 여행객   \n",
              "3     1    유원호텔_서초          9.0           최고           Hye     그룹 여행객   \n",
              "4     1    유원호텔_서초         10.0           최고       SUNGMIN  커플/2인 여행객   \n",
              "\n",
              "    room_type  trip_date_year  trip_date_month  \\\n",
              "0  스탠다드 더블 베드          2020.0             12.0   \n",
              "1  스탠다드 더블 베드          2019.0              6.0   \n",
              "2    디럭스 더블베드          2019.0              9.0   \n",
              "3       스탠다드룸          2016.0              1.0   \n",
              "4  스탠다드 더블 베드          2012.0              8.0   \n",
              "\n",
              "                                              review trip_day review_date  \\\n",
              "0  아버님 서울 병원 방문 목적으로 혼자 숙박하셔야 되어 걱정많았으나 사전 전화 문의에...       1박  2021-01-01   \n",
              "1  3호선 남부터미널 역이 매우 가깝고 교대역까지도 도보로 이동 가능한 거리에 위치함....       1박  2019-07-07   \n",
              "2  디럭스 더블베드룸에 숙박했습니다. 방은 깨끗했고 직원분들도 친절했습니다.\\n남부터미...       1박  2019-10-01   \n",
              "3  숙박의 목적에 따라 평가가 달라지겠지만 저희는 5명 친구들과 함께 하는 거라 도란도...       1박  2016-01-19   \n",
              "4  일단 남부터미널에서 가깝고 놀라울 만큼 저렴한 숙박료에 감탄했습니다. 지방에 사는지...       1박  2012-08-23   \n",
              "\n",
              "   review_len  \n",
              "0          75  \n",
              "1         165  \n",
              "2         181  \n",
              "3         130  \n",
              "4         112  "
            ],
            "text/html": [
              "\n",
              "  <div id=\"df-329b45dd-1383-43c1-901b-c3fe90c3a8b7\">\n",
              "    <div class=\"colab-df-container\">\n",
              "      <div>\n",
              "<style scoped>\n",
              "    .dataframe tbody tr th:only-of-type {\n",
              "        vertical-align: middle;\n",
              "    }\n",
              "\n",
              "    .dataframe tbody tr th {\n",
              "        vertical-align: top;\n",
              "    }\n",
              "\n",
              "    .dataframe thead th {\n",
              "        text-align: right;\n",
              "    }\n",
              "</style>\n",
              "<table border=\"1\" class=\"dataframe\">\n",
              "  <thead>\n",
              "    <tr style=\"text-align: right;\">\n",
              "      <th></th>\n",
              "      <th>star</th>\n",
              "      <th>Hotel_name</th>\n",
              "      <th>review_rate</th>\n",
              "      <th>review_grade</th>\n",
              "      <th>reviewer_name</th>\n",
              "      <th>trip_type</th>\n",
              "      <th>room_type</th>\n",
              "      <th>trip_date_year</th>\n",
              "      <th>trip_date_month</th>\n",
              "      <th>review</th>\n",
              "      <th>trip_day</th>\n",
              "      <th>review_date</th>\n",
              "      <th>review_len</th>\n",
              "    </tr>\n",
              "  </thead>\n",
              "  <tbody>\n",
              "    <tr>\n",
              "      <th>0</th>\n",
              "      <td>1</td>\n",
              "      <td>유원호텔_서초</td>\n",
              "      <td>9.2</td>\n",
              "      <td>최고</td>\n",
              "      <td>jeon</td>\n",
              "      <td>나홀로 여행객</td>\n",
              "      <td>스탠다드 더블 베드</td>\n",
              "      <td>2020.0</td>\n",
              "      <td>12.0</td>\n",
              "      <td>아버님 서울 병원 방문 목적으로 혼자 숙박하셔야 되어 걱정많았으나 사전 전화 문의에...</td>\n",
              "      <td>1박</td>\n",
              "      <td>2021-01-01</td>\n",
              "      <td>75</td>\n",
              "    </tr>\n",
              "    <tr>\n",
              "      <th>1</th>\n",
              "      <td>1</td>\n",
              "      <td>유원호텔_서초</td>\n",
              "      <td>7.2</td>\n",
              "      <td>좋음</td>\n",
              "      <td>Joonvum</td>\n",
              "      <td>출장 여행객</td>\n",
              "      <td>스탠다드 더블 베드</td>\n",
              "      <td>2019.0</td>\n",
              "      <td>6.0</td>\n",
              "      <td>3호선 남부터미널 역이 매우 가깝고 교대역까지도 도보로 이동 가능한 거리에 위치함....</td>\n",
              "      <td>1박</td>\n",
              "      <td>2019-07-07</td>\n",
              "      <td>165</td>\n",
              "    </tr>\n",
              "    <tr>\n",
              "      <th>2</th>\n",
              "      <td>1</td>\n",
              "      <td>유원호텔_서초</td>\n",
              "      <td>8.8</td>\n",
              "      <td>우수</td>\n",
              "      <td>JaeYoung</td>\n",
              "      <td>나홀로 여행객</td>\n",
              "      <td>디럭스 더블베드</td>\n",
              "      <td>2019.0</td>\n",
              "      <td>9.0</td>\n",
              "      <td>디럭스 더블베드룸에 숙박했습니다. 방은 깨끗했고 직원분들도 친절했습니다.\\n남부터미...</td>\n",
              "      <td>1박</td>\n",
              "      <td>2019-10-01</td>\n",
              "      <td>181</td>\n",
              "    </tr>\n",
              "    <tr>\n",
              "      <th>3</th>\n",
              "      <td>1</td>\n",
              "      <td>유원호텔_서초</td>\n",
              "      <td>9.0</td>\n",
              "      <td>최고</td>\n",
              "      <td>Hye</td>\n",
              "      <td>그룹 여행객</td>\n",
              "      <td>스탠다드룸</td>\n",
              "      <td>2016.0</td>\n",
              "      <td>1.0</td>\n",
              "      <td>숙박의 목적에 따라 평가가 달라지겠지만 저희는 5명 친구들과 함께 하는 거라 도란도...</td>\n",
              "      <td>1박</td>\n",
              "      <td>2016-01-19</td>\n",
              "      <td>130</td>\n",
              "    </tr>\n",
              "    <tr>\n",
              "      <th>4</th>\n",
              "      <td>1</td>\n",
              "      <td>유원호텔_서초</td>\n",
              "      <td>10.0</td>\n",
              "      <td>최고</td>\n",
              "      <td>SUNGMIN</td>\n",
              "      <td>커플/2인 여행객</td>\n",
              "      <td>스탠다드 더블 베드</td>\n",
              "      <td>2012.0</td>\n",
              "      <td>8.0</td>\n",
              "      <td>일단 남부터미널에서 가깝고 놀라울 만큼 저렴한 숙박료에 감탄했습니다. 지방에 사는지...</td>\n",
              "      <td>1박</td>\n",
              "      <td>2012-08-23</td>\n",
              "      <td>112</td>\n",
              "    </tr>\n",
              "  </tbody>\n",
              "</table>\n",
              "</div>\n",
              "      <button class=\"colab-df-convert\" onclick=\"convertToInteractive('df-329b45dd-1383-43c1-901b-c3fe90c3a8b7')\"\n",
              "              title=\"Convert this dataframe to an interactive table.\"\n",
              "              style=\"display:none;\">\n",
              "        \n",
              "  <svg xmlns=\"http://www.w3.org/2000/svg\" height=\"24px\"viewBox=\"0 0 24 24\"\n",
              "       width=\"24px\">\n",
              "    <path d=\"M0 0h24v24H0V0z\" fill=\"none\"/>\n",
              "    <path d=\"M18.56 5.44l.94 2.06.94-2.06 2.06-.94-2.06-.94-.94-2.06-.94 2.06-2.06.94zm-11 1L8.5 8.5l.94-2.06 2.06-.94-2.06-.94L8.5 2.5l-.94 2.06-2.06.94zm10 10l.94 2.06.94-2.06 2.06-.94-2.06-.94-.94-2.06-.94 2.06-2.06.94z\"/><path d=\"M17.41 7.96l-1.37-1.37c-.4-.4-.92-.59-1.43-.59-.52 0-1.04.2-1.43.59L10.3 9.45l-7.72 7.72c-.78.78-.78 2.05 0 2.83L4 21.41c.39.39.9.59 1.41.59.51 0 1.02-.2 1.41-.59l7.78-7.78 2.81-2.81c.8-.78.8-2.07 0-2.86zM5.41 20L4 18.59l7.72-7.72 1.47 1.35L5.41 20z\"/>\n",
              "  </svg>\n",
              "      </button>\n",
              "      \n",
              "  <style>\n",
              "    .colab-df-container {\n",
              "      display:flex;\n",
              "      flex-wrap:wrap;\n",
              "      gap: 12px;\n",
              "    }\n",
              "\n",
              "    .colab-df-convert {\n",
              "      background-color: #E8F0FE;\n",
              "      border: none;\n",
              "      border-radius: 50%;\n",
              "      cursor: pointer;\n",
              "      display: none;\n",
              "      fill: #1967D2;\n",
              "      height: 32px;\n",
              "      padding: 0 0 0 0;\n",
              "      width: 32px;\n",
              "    }\n",
              "\n",
              "    .colab-df-convert:hover {\n",
              "      background-color: #E2EBFA;\n",
              "      box-shadow: 0px 1px 2px rgba(60, 64, 67, 0.3), 0px 1px 3px 1px rgba(60, 64, 67, 0.15);\n",
              "      fill: #174EA6;\n",
              "    }\n",
              "\n",
              "    [theme=dark] .colab-df-convert {\n",
              "      background-color: #3B4455;\n",
              "      fill: #D2E3FC;\n",
              "    }\n",
              "\n",
              "    [theme=dark] .colab-df-convert:hover {\n",
              "      background-color: #434B5C;\n",
              "      box-shadow: 0px 1px 3px 1px rgba(0, 0, 0, 0.15);\n",
              "      filter: drop-shadow(0px 1px 2px rgba(0, 0, 0, 0.3));\n",
              "      fill: #FFFFFF;\n",
              "    }\n",
              "  </style>\n",
              "\n",
              "      <script>\n",
              "        const buttonEl =\n",
              "          document.querySelector('#df-329b45dd-1383-43c1-901b-c3fe90c3a8b7 button.colab-df-convert');\n",
              "        buttonEl.style.display =\n",
              "          google.colab.kernel.accessAllowed ? 'block' : 'none';\n",
              "\n",
              "        async function convertToInteractive(key) {\n",
              "          const element = document.querySelector('#df-329b45dd-1383-43c1-901b-c3fe90c3a8b7');\n",
              "          const dataTable =\n",
              "            await google.colab.kernel.invokeFunction('convertToInteractive',\n",
              "                                                     [key], {});\n",
              "          if (!dataTable) return;\n",
              "\n",
              "          const docLinkHtml = 'Like what you see? Visit the ' +\n",
              "            '<a target=\"_blank\" href=https://colab.research.google.com/notebooks/data_table.ipynb>data table notebook</a>'\n",
              "            + ' to learn more about interactive tables.';\n",
              "          element.innerHTML = '';\n",
              "          dataTable['output_type'] = 'display_data';\n",
              "          await google.colab.output.renderOutput(dataTable, element);\n",
              "          const docLink = document.createElement('div');\n",
              "          docLink.innerHTML = docLinkHtml;\n",
              "          element.appendChild(docLink);\n",
              "        }\n",
              "      </script>\n",
              "    </div>\n",
              "  </div>\n",
              "  "
            ]
          },
          "metadata": {},
          "execution_count": 28
        }
      ]
    },
    {
      "cell_type": "code",
      "source": [
        "sns.histplot(data=df,x='review_len')"
      ],
      "metadata": {
        "colab": {
          "base_uri": "https://localhost:8080/",
          "height": 302
        },
        "id": "6oqze9wcuUJa",
        "outputId": "776f4ae7-910e-4bc4-dcb7-01f3ba1ca947"
      },
      "execution_count": null,
      "outputs": [
        {
          "output_type": "execute_result",
          "data": {
            "text/plain": [
              "<matplotlib.axes._subplots.AxesSubplot at 0x7f360715fc90>"
            ]
          },
          "metadata": {},
          "execution_count": 29
        },
        {
          "output_type": "display_data",
          "data": {
            "text/plain": [
              "<Figure size 432x288 with 1 Axes>"
            ],
            "image/png": "[encoded data removed]"
          },
          "metadata": {}
        }
      ]
    },
    {
      "cell_type": "code",
      "source": [
        "sns.boxplot(data=df,x='review_len')"
      ],
      "metadata": {
        "colab": {
          "base_uri": "https://localhost:8080/",
          "height": 299
        },
        "id": "1jjdiT-buYcT",
        "outputId": "848355d0-9832-4670-9904-13e8464edc94"
      },
      "execution_count": null,
      "outputs": [
        {
          "output_type": "execute_result",
          "data": {
            "text/plain": [
              "<matplotlib.axes._subplots.AxesSubplot at 0x7f3606dece50>"
            ]
          },
          "metadata": {},
          "execution_count": 30
        },
        {
          "output_type": "display_data",
          "data": {
            "text/plain": [
              "<Figure size 432x288 with 1 Axes>"
            ],
            "image/png": "[encoded data removed]"
          },
          "metadata": {}
        }
      ]
    },
    {
      "cell_type": "code",
      "source": [
        "sns.countplot(data=df,x='trip_day')"
      ],
      "metadata": {
        "colab": {
          "base_uri": "https://localhost:8080/",
          "height": 299
        },
        "id": "gJra3ahyucR8",
        "outputId": "4632c24a-cfa0-4e7c-86fd-110f18da4d92"
      },
      "execution_count": null,
      "outputs": [
        {
          "output_type": "execute_result",
          "data": {
            "text/plain": [
              "<matplotlib.axes._subplots.AxesSubplot at 0x7f3606d44610>"
            ]
          },
          "metadata": {},
          "execution_count": 31
        },
        {
          "output_type": "display_data",
          "data": {
            "text/plain": [
              "<Figure size 432x288 with 1 Axes>"
            ],
            "image/png": "[encoded data removed]"
          },
          "metadata": {}
        }
      ]
    },
    {
      "cell_type": "code",
      "source": [
        "sns.heatmap(df.corr(),annot=True)"
      ],
      "metadata": {
        "colab": {
          "base_uri": "https://localhost:8080/",
          "height": 353
        },
        "id": "KxJxo6h1wpiO",
        "outputId": "738a0588-7a65-40e5-a776-1133b96b86d5"
      },
      "execution_count": null,
      "outputs": [
        {
          "output_type": "execute_result",
          "data": {
            "text/plain": [
              "<matplotlib.axes._subplots.AxesSubplot at 0x7f3606bfc3d0>"
            ]
          },
          "metadata": {},
          "execution_count": 36
        },
        {
          "output_type": "display_data",
          "data": {
            "text/plain": [
              "<Figure size 432x288 with 2 Axes>"
            ],
            "image/png": "[encoded data removed]"
          },
          "metadata": {}
        }
      ]
    },
    {
      "cell_type": "code",
      "source": [],
      "metadata": {
        "id": "5ceaZ7_YwzFF"
      },
      "execution_count": null,
      "outputs": []
    }
  ]
}
