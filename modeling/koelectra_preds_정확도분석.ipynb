{
  "nbformat": 4,
  "nbformat_minor": 0,
  "metadata": {
    "colab": {
      "provenance": [],
      "authorship_tag": "ABX9TyNF38S5uedLL7cA0zxc9Vww",
      "include_colab_link": true
    },
    "kernelspec": {
      "name": "python3",
      "display_name": "Python 3"
    },
    "language_info": {
      "name": "python"
    }
  },
  "cells": [
    {
      "cell_type": "markdown",
      "metadata": {
        "id": "view-in-github",
        "colab_type": "text"
      },
      "source": [
        "<a href=\"https://colab.research.google.com/github/jiin124/review_project/blob/main/modeling/koelectra_preds_%EC%A0%95%ED%99%95%EB%8F%84%EB%B6%84%EC%84%9D.ipynb\" target=\"_parent\"><img src=\"https://colab.research.google.com/assets/colab-badge.svg\" alt=\"Open In Colab\"/></a>"
      ]
    },
    {
      "cell_type": "code",
      "execution_count": 1,
      "metadata": {
        "id": "wMboDPmWHgkB"
      },
      "outputs": [],
      "source": [
        "import numpy as np\n",
        "import pandas as pd\n",
        "import matplotlib.pyplot as plt\n",
        "import seaborn as sns"
      ]
    },
    {
      "cell_type": "code",
      "source": [
        "df=pd.read_csv('/content/koelectra_preds (2).csv')\n",
        "df.info()"
      ],
      "metadata": {
        "colab": {
          "base_uri": "https://localhost:8080/"
        },
        "id": "DiSy9ynGMbcT",
        "outputId": "b7086fe1-2990-4467-be9d-1793831149e6"
      },
      "execution_count": 2,
      "outputs": [
        {
          "output_type": "stream",
          "name": "stdout",
          "text": [
            "<class 'pandas.core.frame.DataFrame'>\n",
            "RangeIndex: 584 entries, 0 to 583\n",
            "Data columns (total 3 columns):\n",
            " #   Column     Non-Null Count  Dtype \n",
            "---  ------     --------------  ----- \n",
            " 0   rate       584 non-null    int64 \n",
            " 1   pred_rate  584 non-null    int64 \n",
            " 2   review     584 non-null    object\n",
            "dtypes: int64(2), object(1)\n",
            "memory usage: 13.8+ KB\n"
          ]
        }
      ]
    },
    {
      "cell_type": "code",
      "source": [
        "df.head(4)"
      ],
      "metadata": {
        "colab": {
          "base_uri": "https://localhost:8080/",
          "height": 175
        },
        "id": "hlSmwqmBMemJ",
        "outputId": "339cf9f3-15d3-4b7c-ba50-1f97f64e2819"
      },
      "execution_count": 4,
      "outputs": [
        {
          "output_type": "execute_result",
          "data": {
            "text/plain": [
              "   rate  pred_rate                                             review\n",
              "0     3          4  룸 컨디션 좋았고 직원분들 친절하셨습니다. 다만 위치상 렌트하지 않는 분들은 택시를...\n",
              "1     2          2                                      시댁 어른을 모셨던 호텔\n",
              "2     3          3  솔직하게 약간 속은 느낌. 위치야 정할 때부터 보긴 봤지만 실제 체감은 중심가랑 너...\n",
              "3     5          5                                       조용하고 쾌적했습니다."
            ],
            "text/html": [
              "\n",
              "  <div id=\"df-f7175fca-79e2-4e38-8a5f-6a2767447192\">\n",
              "    <div class=\"colab-df-container\">\n",
              "      <div>\n",
              "<style scoped>\n",
              "    .dataframe tbody tr th:only-of-type {\n",
              "        vertical-align: middle;\n",
              "    }\n",
              "\n",
              "    .dataframe tbody tr th {\n",
              "        vertical-align: top;\n",
              "    }\n",
              "\n",
              "    .dataframe thead th {\n",
              "        text-align: right;\n",
              "    }\n",
              "</style>\n",
              "<table border=\"1\" class=\"dataframe\">\n",
              "  <thead>\n",
              "    <tr style=\"text-align: right;\">\n",
              "      <th></th>\n",
              "      <th>rate</th>\n",
              "      <th>pred_rate</th>\n",
              "      <th>review</th>\n",
              "    </tr>\n",
              "  </thead>\n",
              "  <tbody>\n",
              "    <tr>\n",
              "      <th>0</th>\n",
              "      <td>3</td>\n",
              "      <td>4</td>\n",
              "      <td>룸 컨디션 좋았고 직원분들 친절하셨습니다. 다만 위치상 렌트하지 않는 분들은 택시를...</td>\n",
              "    </tr>\n",
              "    <tr>\n",
              "      <th>1</th>\n",
              "      <td>2</td>\n",
              "      <td>2</td>\n",
              "      <td>시댁 어른을 모셨던 호텔</td>\n",
              "    </tr>\n",
              "    <tr>\n",
              "      <th>2</th>\n",
              "      <td>3</td>\n",
              "      <td>3</td>\n",
              "      <td>솔직하게 약간 속은 느낌. 위치야 정할 때부터 보긴 봤지만 실제 체감은 중심가랑 너...</td>\n",
              "    </tr>\n",
              "    <tr>\n",
              "      <th>3</th>\n",
              "      <td>5</td>\n",
              "      <td>5</td>\n",
              "      <td>조용하고 쾌적했습니다.</td>\n",
              "    </tr>\n",
              "  </tbody>\n",
              "</table>\n",
              "</div>\n",
              "      <button class=\"colab-df-convert\" onclick=\"convertToInteractive('df-f7175fca-79e2-4e38-8a5f-6a2767447192')\"\n",
              "              title=\"Convert this dataframe to an interactive table.\"\n",
              "              style=\"display:none;\">\n",
              "        \n",
              "  <svg xmlns=\"http://www.w3.org/2000/svg\" height=\"24px\"viewBox=\"0 0 24 24\"\n",
              "       width=\"24px\">\n",
              "    <path d=\"M0 0h24v24H0V0z\" fill=\"none\"/>\n",
              "    <path d=\"M18.56 5.44l.94 2.06.94-2.06 2.06-.94-2.06-.94-.94-2.06-.94 2.06-2.06.94zm-11 1L8.5 8.5l.94-2.06 2.06-.94-2.06-.94L8.5 2.5l-.94 2.06-2.06.94zm10 10l.94 2.06.94-2.06 2.06-.94-2.06-.94-.94-2.06-.94 2.06-2.06.94z\"/><path d=\"M17.41 7.96l-1.37-1.37c-.4-.4-.92-.59-1.43-.59-.52 0-1.04.2-1.43.59L10.3 9.45l-7.72 7.72c-.78.78-.78 2.05 0 2.83L4 21.41c.39.39.9.59 1.41.59.51 0 1.02-.2 1.41-.59l7.78-7.78 2.81-2.81c.8-.78.8-2.07 0-2.86zM5.41 20L4 18.59l7.72-7.72 1.47 1.35L5.41 20z\"/>\n",
              "  </svg>\n",
              "      </button>\n",
              "      \n",
              "  <style>\n",
              "    .colab-df-container {\n",
              "      display:flex;\n",
              "      flex-wrap:wrap;\n",
              "      gap: 12px;\n",
              "    }\n",
              "\n",
              "    .colab-df-convert {\n",
              "      background-color: #E8F0FE;\n",
              "      border: none;\n",
              "      border-radius: 50%;\n",
              "      cursor: pointer;\n",
              "      display: none;\n",
              "      fill: #1967D2;\n",
              "      height: 32px;\n",
              "      padding: 0 0 0 0;\n",
              "      width: 32px;\n",
              "    }\n",
              "\n",
              "    .colab-df-convert:hover {\n",
              "      background-color: #E2EBFA;\n",
              "      box-shadow: 0px 1px 2px rgba(60, 64, 67, 0.3), 0px 1px 3px 1px rgba(60, 64, 67, 0.15);\n",
              "      fill: #174EA6;\n",
              "    }\n",
              "\n",
              "    [theme=dark] .colab-df-convert {\n",
              "      background-color: #3B4455;\n",
              "      fill: #D2E3FC;\n",
              "    }\n",
              "\n",
              "    [theme=dark] .colab-df-convert:hover {\n",
              "      background-color: #434B5C;\n",
              "      box-shadow: 0px 1px 3px 1px rgba(0, 0, 0, 0.15);\n",
              "      filter: drop-shadow(0px 1px 2px rgba(0, 0, 0, 0.3));\n",
              "      fill: #FFFFFF;\n",
              "    }\n",
              "  </style>\n",
              "\n",
              "      <script>\n",
              "        const buttonEl =\n",
              "          document.querySelector('#df-f7175fca-79e2-4e38-8a5f-6a2767447192 button.colab-df-convert');\n",
              "        buttonEl.style.display =\n",
              "          google.colab.kernel.accessAllowed ? 'block' : 'none';\n",
              "\n",
              "        async function convertToInteractive(key) {\n",
              "          const element = document.querySelector('#df-f7175fca-79e2-4e38-8a5f-6a2767447192');\n",
              "          const dataTable =\n",
              "            await google.colab.kernel.invokeFunction('convertToInteractive',\n",
              "                                                     [key], {});\n",
              "          if (!dataTable) return;\n",
              "\n",
              "          const docLinkHtml = 'Like what you see? Visit the ' +\n",
              "            '<a target=\"_blank\" href=https://colab.research.google.com/notebooks/data_table.ipynb>data table notebook</a>'\n",
              "            + ' to learn more about interactive tables.';\n",
              "          element.innerHTML = '';\n",
              "          dataTable['output_type'] = 'display_data';\n",
              "          await google.colab.output.renderOutput(dataTable, element);\n",
              "          const docLink = document.createElement('div');\n",
              "          docLink.innerHTML = docLinkHtml;\n",
              "          element.appendChild(docLink);\n",
              "        }\n",
              "      </script>\n",
              "    </div>\n",
              "  </div>\n",
              "  "
            ]
          },
          "metadata": {},
          "execution_count": 4
        }
      ]
    },
    {
      "cell_type": "code",
      "source": [
        "count=0\n",
        "\n",
        "for i in range(len(df)):\n",
        "  if df['rate'][i]==df['pred_rate'][i]:\n",
        "    count+=1\n",
        "\n"
      ],
      "metadata": {
        "id": "t_t0GFt5MgQM"
      },
      "execution_count": 8,
      "outputs": []
    },
    {
      "cell_type": "code",
      "source": [
        "print(count)"
      ],
      "metadata": {
        "colab": {
          "base_uri": "https://localhost:8080/"
        },
        "id": "OVl3w77IMyIb",
        "outputId": "757852d7-9cbc-4aa4-d489-609bec234458"
      },
      "execution_count": 9,
      "outputs": [
        {
          "output_type": "stream",
          "name": "stdout",
          "text": [
            "329\n"
          ]
        }
      ]
    },
    {
      "cell_type": "code",
      "source": [
        "#정확도\n",
        "\n",
        "329/584*100"
      ],
      "metadata": {
        "colab": {
          "base_uri": "https://localhost:8080/"
        },
        "id": "PRMi5wIJNEQN",
        "outputId": "8681579a-3bb9-4e6b-cdd0-0cf7ca609992"
      },
      "execution_count": 10,
      "outputs": [
        {
          "output_type": "execute_result",
          "data": {
            "text/plain": [
              "56.33561643835616"
            ]
          },
          "metadata": {},
          "execution_count": 10
        }
      ]
    },
    {
      "cell_type": "code",
      "source": [
        "#rate 1 개수\n",
        "\n",
        "rate1=0\n",
        "pred_rate1=0\n",
        "\n",
        "for i in range(len(df)):\n",
        "  if df['rate'][i]==1:\n",
        "    rate1+=1\n",
        "  if df['pred_rate'][i]==1 and df['rate'][i]==1:\n",
        "    pred_rate1+=1\n",
        "\n",
        "print(\"실제 rate : \",rate1)\n",
        "print(\"1로 맞춤 rate : \",pred_rate1)\n",
        "print(\"평점 1의 정확도 : \",pred_rate1/rate1*100)\n",
        "\n"
      ],
      "metadata": {
        "colab": {
          "base_uri": "https://localhost:8080/"
        },
        "id": "LbcsZdMjNLQN",
        "outputId": "0667d349-2252-4bb9-b410-5efde174e22d"
      },
      "execution_count": 14,
      "outputs": [
        {
          "output_type": "stream",
          "name": "stdout",
          "text": [
            "실제 rate :  83\n",
            "1로 맞춤 rate :  32\n",
            "평점 1의 정확도 :  38.55421686746988\n"
          ]
        }
      ]
    },
    {
      "cell_type": "code",
      "source": [
        "#rate 2 개수\n",
        "\n",
        "rate2=0\n",
        "pred_rate2=0\n",
        "\n",
        "for i in range(len(df)):\n",
        "  if df['rate'][i]==2:\n",
        "    rate2+=1\n",
        "  if df['pred_rate'][i]==2 and df['rate'][i]==2:\n",
        "    pred_rate2+=1\n",
        "\n",
        "print(\"실제 rate : \",rate2)\n",
        "print(\"2로 맞춘 rate : \",pred_rate2)\n",
        "print(\"평점 2의 정확도 : \",pred_rate2/rate2*100)\n"
      ],
      "metadata": {
        "colab": {
          "base_uri": "https://localhost:8080/"
        },
        "id": "GC787duHPMgo",
        "outputId": "dc57ae2b-5c80-4fa6-84a9-dbc900aff8ce"
      },
      "execution_count": 17,
      "outputs": [
        {
          "output_type": "stream",
          "name": "stdout",
          "text": [
            "실제 rate :  121\n",
            "2로 맞춘 rate :  87\n",
            "평점 2의 정확도 :  71.900826446281\n"
          ]
        }
      ]
    },
    {
      "cell_type": "code",
      "source": [
        "#rate 3 개수\n",
        "\n",
        "rate3=0\n",
        "pred_rate3=0\n",
        "\n",
        "for i in range(len(df)):\n",
        "  if df['rate'][i]==3:\n",
        "    rate3+=1\n",
        "  if df['pred_rate'][i]==3 and df['rate'][i]==3:\n",
        "    pred_rate3+=1\n",
        "\n",
        "print(\"실제 rate : \",rate3)\n",
        "print(\"3으로 맞춘 rate : \",pred_rate3)\n",
        "print(\"평점 3의 정확도 : \",pred_rate3/rate3*100)\n"
      ],
      "metadata": {
        "colab": {
          "base_uri": "https://localhost:8080/"
        },
        "id": "5ICjLdnqPxjB",
        "outputId": "1c872bc4-3884-4452-aa19-9f571ab6e8f8"
      },
      "execution_count": 19,
      "outputs": [
        {
          "output_type": "stream",
          "name": "stdout",
          "text": [
            "실제 rate :  117\n",
            "3으로 맞춘 rate :  44\n",
            "평점 3의 정확도 :  37.60683760683761\n"
          ]
        }
      ]
    },
    {
      "cell_type": "code",
      "source": [
        "#rate 4 개수\n",
        "\n",
        "rate4=0\n",
        "pred_rate4=0\n",
        "\n",
        "for i in range(len(df)):\n",
        "  if df['rate'][i]==4:\n",
        "    rate4+=1\n",
        "  if df['pred_rate'][i]==4 and df['rate'][i]==4:\n",
        "    pred_rate4+=1\n",
        "\n",
        "print(\"실제 rate : \",rate4)\n",
        "print(\"4로 맞춘 rate : \",pred_rate4)\n",
        "print(\"평점 4의 정확도 : \",pred_rate4/rate4*100)"
      ],
      "metadata": {
        "colab": {
          "base_uri": "https://localhost:8080/"
        },
        "id": "jWiWoVCXQNeM",
        "outputId": "e3925bac-b58f-4909-ef92-aa7d6846cdb9"
      },
      "execution_count": 20,
      "outputs": [
        {
          "output_type": "stream",
          "name": "stdout",
          "text": [
            "실제 rate :  140\n",
            "4로 맞춘 rate :  67\n",
            "평점 4의 정확도 :  47.85714285714286\n"
          ]
        }
      ]
    },
    {
      "cell_type": "code",
      "source": [
        "#rate 5 개수\n",
        "\n",
        "rate5=0\n",
        "pred_rate5=0\n",
        "\n",
        "for i in range(len(df)):\n",
        "  if df['rate'][i]==5:\n",
        "    rate5+=1\n",
        "  if df['pred_rate'][i]==5 and df['rate'][i]==5:\n",
        "    pred_rate5+=1\n",
        "\n",
        "print(\"실제 rate : \",rate5)\n",
        "print(\"5로 맞춘 rate : \",pred_rate5)\n",
        "print(\"평점 5의 정확도 : \",pred_rate5/rate5*100)"
      ],
      "metadata": {
        "colab": {
          "base_uri": "https://localhost:8080/"
        },
        "id": "qPVEcfN8QkiM",
        "outputId": "8070aaea-13d5-4ece-dee9-232e2f718da8"
      },
      "execution_count": 21,
      "outputs": [
        {
          "output_type": "stream",
          "name": "stdout",
          "text": [
            "실제 rate :  123\n",
            "5로 맞춘 rate :  99\n",
            "평점 5의 정확도 :  80.48780487804879\n"
          ]
        }
      ]
    },
    {
      "cell_type": "code",
      "source": [],
      "metadata": {
        "id": "KJ-ikXq_Q2U4"
      },
      "execution_count": null,
      "outputs": []
    }
  ]
}